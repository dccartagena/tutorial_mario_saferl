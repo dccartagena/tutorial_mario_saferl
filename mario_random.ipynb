{
 "cells": [
  {
   "cell_type": "markdown",
   "metadata": {},
   "source": [
    "# Reinforcement Learning in Mario - Tutorial\n",
    "\n",
    "This tutorial will gude you through the setup process for the Mario Environment and Stablebaselines library\n",
    "\n",
    "## First steps\n",
    "\n",
    "- Create a conda virtual environment with Python 3.9\n",
    "    - Make sure you have anaconda installed in your computer - (Conda Installation)[https://conda.io/projects/conda/en/latest/user-guide/install/index.html]\n",
    "    -  Open the Conda console and use the following line to create the virtual environment: \n",
    "        ```console\n",
    "        conda create --name my_environment python=3.9\n",
    "        conda activate my_environment\n",
    "        ```\n",
    "        *Note the new environment only has Python, we will install the dependencies along the way to detect potential compatibility issues.\n",
    "\n",
    "- Setup the VScode IDE to run Python from the new environment\n",
    "    - Open the command palette, use the following shortcut: Control + Shift + P or under the menu \"view.\"\n",
    "    - Type in the textbox \"select interpreter\" and choose the python from the new virtual environment.\n",
    "    - For further information about this process, follow the link: (Python environments in VS Code)[https://code.visualstudio.com/docs/python/environments]\n",
    "\n",
    "- As next step, please create a private repository in GitHub and share it with (@dccartagena)[https://github.com/dccartagena]. Then clone it in your computer and save everything there. \n",
    "    - If you are not familiar with GitHub, I recommend you to use the visual interface to pull/push/fetch changes in your code: (GitHub Desktop)[https://desktop.github.com/]\n",
    "\n",
    "- Now, let us proceed to create a Jupyter notebook or python file, e.g. mario_saferl.ipynb or mario_saferl.py"
   ]
  },
  {
   "cell_type": "markdown",
   "metadata": {},
   "source": [
    "## Installing The Mario Environment\n",
    "\n",
    "- Make sure you are working in the virtual environment. You may check it on the Conda console.\n",
    "- Run the following commands in the Conda console:\n",
    "\n",
    "    ```console \n",
    "    pip install --user wheel==0.38.0 pip install setuptools==65.5.0 \n",
    "    pip install stable-baselines3==1.8.0\n",
    "    pip install nes-py\n",
    "    pip install gym-super-mario-bros\n",
    "    pip install opencv-python\n",
    "    ```\n",
    "    - In case you face a compatibility issue with nes-py, chances are that the C++ distribution in your pc is not compatible. Thus, follow the instruction in the first comment of this Stackoverflow question: (How to solve \"error: Microsoft Visual C++ 14.0 or greater is required\" when installing Python packages?)[https://stackoverflow.com/questions/64261546/how-to-solve-error-microsoft-visual-c-14-0-or-greater-is-required-when-inst]\n",
    "        - Go to the control panel in your pc and under the *\"Install/Uninstall Apps,\"* search for the program *\"Visual Studio Build Tools,\"* then click in **Modify** the installation. \n",
    "        - Then, use the installation wizard to update the C++ distribution in your machine.\n",
    "\n",
    "Note we will work with deprecated libraries due to the gym-super-mario-bros environment."
   ]
  },
  {
   "cell_type": "markdown",
   "metadata": {},
   "source": [
    "## Let Us Create A Random Agent"
   ]
  },
  {
   "cell_type": "code",
   "execution_count": 1,
   "metadata": {},
   "outputs": [],
   "source": [
    "# Import libraries\n",
    "\n",
    "from PIL import Image           # Image management\n",
    "import numpy as np              # Numerical computing\n",
    "import matplotlib.pyplot as plt # Plotting\n",
    "\n",
    "from nes_py.wrappers import JoypadSpace     # Joypad wrapper in NES Emulator\n",
    "\n",
    "import gym_super_mario_bros                                 # Super Mario environment\n",
    "from gym_super_mario_bros.actions import SIMPLE_MOVEMENT    # Import the simplified controls"
   ]
  },
  {
   "cell_type": "code",
   "execution_count": 2,
   "metadata": {},
   "outputs": [],
   "source": [
    "# Create environment - Note there are different environments, for more info: https://pypi.org/project/gym-super-mario-bros/\n",
    "env = gym_super_mario_bros.make(\"SuperMarioBros-v2\")\n",
    "\n",
    "# Setup simplified controls\n",
    "env = JoypadSpace(env, SIMPLE_MOVEMENT)\n",
    "\n",
    "# actions for simple movement\n",
    "# SIMPLE_MOVEMENT = [\n",
    "#     ['NOOP'],\n",
    "#     ['right'],\n",
    "#     ['right', 'A'],\n",
    "#     ['right', 'B'],\n",
    "#     ['right', 'A', 'B'],\n",
    "#     ['A'],\n",
    "#     ['left'],\n",
    "# ]"
   ]
  },
  {
   "cell_type": "code",
   "execution_count": 3,
   "metadata": {},
   "outputs": [
    {
     "name": "stdout",
     "output_type": "stream",
     "text": [
      "The shape of the states is (240, 256, 3)\n",
      "The reward for this iteration is 0.0\n",
      "The done flag in this iteration is False\n",
      "Here is more information about this iteration {'coins': 0, 'flag_get': False, 'life': 2, 'score': 0, 'stage': 1, 'status': 'small', 'time': 400, 'world': 1, 'x_pos': 40, 'y_pos': 79}\n"
     ]
    }
   ],
   "source": [
    "# Let us explore the space and action space in this environment\n",
    "\n",
    "# Reset environment\n",
    "env.reset()\n",
    "\n",
    "# Sample one random action\n",
    "action = env.action_space.sample()\n",
    "\n",
    "# One agent-environment iteration \n",
    "next_state, reward, done, info = env.step(action)\n",
    "\n",
    "# Print results\n",
    "print('The shape of the states is {}'.format(next_state.shape))\n",
    "\n",
    "print('The reward for this iteration is {}'.format(reward))\n",
    "\n",
    "print('The done flag in this iteration is {}'.format(done))\n",
    "\n",
    "print('Here is more information about this iteration {}'.format(info))"
   ]
  },
  {
   "cell_type": "code",
   "execution_count": 4,
   "metadata": {},
   "outputs": [
    {
     "data": {
      "text/plain": [
       "<matplotlib.image.AxesImage at 0x20a209a40a0>"
      ]
     },
     "execution_count": 4,
     "metadata": {},
     "output_type": "execute_result"
    },
    {
     "data": {
      "image/png": "[encoded data removed]",
      "text/plain": [
       "<Figure size 2000x1600 with 1 Axes>"
      ]
     },
     "metadata": {},
     "output_type": "display_data"
    }
   ],
   "source": [
    "# Plot next state\n",
    "plt.figure(figsize=(20, 16))\n",
    "plt.imshow(next_state)"
   ]
  },
  {
   "cell_type": "code",
   "execution_count": 5,
   "metadata": {},
   "outputs": [
    {
     "name": "stdout",
     "output_type": "stream",
     "text": [
      "The reward in step 0 is 0.0\n",
      "The reward in step 1 is -1.0\n",
      "The reward in step 2 is 0.0\n",
      "The reward in step 3 is 0.0\n",
      "The reward in step 4 is 0.0\n",
      "The reward in step 5 is 0.0\n",
      "The reward in step 6 is 0.0\n",
      "The reward in step 7 is 1.0\n",
      "The reward in step 8 is 0.0\n",
      "The reward in step 9 is 0.0\n",
      "The reward in step 10 is 0.0\n",
      "The reward in step 11 is 1.0\n",
      "The reward in step 12 is 0.0\n",
      "The reward in step 13 is 0.0\n",
      "The reward in step 14 is 1.0\n",
      "The reward in step 15 is 0.0\n",
      "The reward in step 16 is 0.0\n",
      "The reward in step 17 is 1.0\n",
      "The reward in step 18 is -1.0\n",
      "The reward in step 19 is 0.0\n",
      "The reward in step 20 is 1.0\n",
      "The reward in step 21 is 0.0\n",
      "The reward in step 22 is 0.0\n",
      "The reward in step 23 is 0.0\n",
      "The reward in step 24 is 1.0\n",
      "The reward in step 25 is 0.0\n",
      "The reward in step 26 is 1.0\n",
      "The reward in step 27 is 0.0\n",
      "The reward in step 28 is 1.0\n",
      "The reward in step 29 is 0.0\n",
      "The reward in step 30 is 1.0\n",
      "The reward in step 31 is 0.0\n",
      "The reward in step 32 is 1.0\n",
      "The reward in step 33 is 1.0\n",
      "The reward in step 34 is 0.0\n",
      "The reward in step 35 is 1.0\n",
      "The reward in step 36 is 0.0\n",
      "The reward in step 37 is 1.0\n",
      "The reward in step 38 is 0.0\n",
      "The reward in step 39 is 0.0\n",
      "The reward in step 40 is 1.0\n",
      "The reward in step 41 is 1.0\n",
      "The reward in step 42 is 1.0\n",
      "The reward in step 43 is 0.0\n",
      "The reward in step 44 is 1.0\n",
      "The reward in step 45 is 1.0\n",
      "The reward in step 46 is 1.0\n",
      "The reward in step 47 is 0.0\n",
      "The reward in step 48 is 0.0\n",
      "The reward in step 49 is 0.0\n",
      "The reward in step 50 is 0.0\n",
      "The reward in step 51 is 0.0\n",
      "The reward in step 52 is 0.0\n",
      "The reward in step 53 is 1.0\n",
      "The reward in step 54 is 0.0\n",
      "The reward in step 55 is 0.0\n",
      "The reward in step 56 is 1.0\n",
      "The reward in step 57 is 0.0\n",
      "The reward in step 58 is 0.0\n",
      "The reward in step 59 is 0.0\n",
      "The reward in step 60 is 1.0\n",
      "The reward in step 61 is 1.0\n",
      "The reward in step 62 is 0.0\n",
      "The reward in step 63 is 1.0\n",
      "The reward in step 64 is 0.0\n",
      "The reward in step 65 is 1.0\n",
      "The reward in step 66 is 1.0\n",
      "The reward in step 67 is 1.0\n",
      "The reward in step 68 is 0.0\n",
      "The reward in step 69 is 1.0\n",
      "The reward in step 70 is 1.0\n",
      "The reward in step 71 is 0.0\n",
      "The reward in step 72 is 1.0\n",
      "The reward in step 73 is 1.0\n",
      "The reward in step 74 is 0.0\n",
      "The reward in step 75 is 1.0\n",
      "The reward in step 76 is 1.0\n",
      "The reward in step 77 is 1.0\n",
      "The reward in step 78 is 0.0\n",
      "The reward in step 79 is 1.0\n",
      "The reward in step 80 is 1.0\n",
      "The reward in step 81 is 1.0\n",
      "The reward in step 82 is 2.0\n",
      "The reward in step 83 is 1.0\n",
      "The reward in step 84 is 1.0\n",
      "The reward in step 85 is 2.0\n",
      "The reward in step 86 is 1.0\n",
      "The reward in step 87 is 1.0\n",
      "The reward in step 88 is 2.0\n",
      "The reward in step 89 is 1.0\n",
      "The reward in step 90 is 2.0\n",
      "The reward in step 91 is 1.0\n",
      "The reward in step 92 is 2.0\n",
      "The reward in step 93 is 1.0\n",
      "The reward in step 94 is 2.0\n",
      "The reward in step 95 is 2.0\n",
      "The reward in step 96 is 2.0\n",
      "The reward in step 97 is 1.0\n",
      "The reward in step 98 is 1.0\n",
      "The reward in step 99 is 2.0\n"
     ]
    }
   ],
   "source": [
    "# Random Agent Loop\n",
    "\n",
    "# Done flag - Termination of episode\n",
    "done = True\n",
    "\n",
    "# Number of iterations\n",
    "num_iterations = 100\n",
    "\n",
    "# Iteration loop\n",
    "for steps in range(num_iterations):\n",
    "    \n",
    "    # Check if the episode is done\n",
    "    if done:\n",
    "        env.reset()\n",
    "    \n",
    "    # Sample one random action\n",
    "    action = env.action_space.sample()\n",
    "    \n",
    "    # agent-environment iteration \n",
    "    next_state, reward, done, info = env.step(action)\n",
    "    \n",
    "    # Render may crash Jupyter\n",
    "    # env.render()\n",
    "    \n",
    "    # Check for new reward\n",
    "    print('The reward in step {} is {}'.format(steps, reward))\n",
    "    \n",
    "# Close the environment        \n",
    "env.close()"
   ]
  },
  {
   "cell_type": "markdown",
   "metadata": {},
   "source": [
    "# Let Us Create An RL agent"
   ]
  },
  {
   "cell_type": "code",
   "execution_count": 6,
   "metadata": {},
   "outputs": [],
   "source": [
    "# Wrappers to vectorize and stack frames\n",
    "from stable_baselines3.common.vec_env import VecFrameStack, DummyVecEnv\n",
    "\n",
    "# RL algorithms in the library\n",
    "from stable_baselines3 import DQN, A2C, DDPG, PPO, SAC, TD3\n",
    "\n",
    "# Import Frame Stacker Wrapper and GrayScaling Wrapper\n",
    "from gym.wrappers import GrayScaleObservation"
   ]
  },
  {
   "cell_type": "code",
   "execution_count": 7,
   "metadata": {},
   "outputs": [],
   "source": [
    "# Use the wrappers\n",
    "\n",
    "# Grayscale\n",
    "env = GrayScaleObservation(env, keep_dim=True)\n",
    "\n",
    "# Vectorize environment - call the environment in sequence on the current Python process\n",
    "env =  DummyVecEnv([lambda: env])\n",
    "\n",
    "# Stack frames\n",
    "env = VecFrameStack(env, n_stack = 4, channels_order='last')"
   ]
  },
  {
   "cell_type": "code",
   "execution_count": 9,
   "metadata": {},
   "outputs": [
    {
     "ename": "OSError",
     "evalue": "exception: access violation reading 0x000000000003C200",
     "output_type": "error",
     "traceback": [
      "\u001b[1;31m---------------------------------------------------------------------------\u001b[0m",
      "\u001b[1;31mOSError\u001b[0m                                   Traceback (most recent call last)",
      "\u001b[1;32mc:\\Users\\P311985\\Documents\\GitHub\\tutorial_mario_saferl\\mario_saferl.ipynb Cell 12\u001b[0m line \u001b[0;36m4\n\u001b[0;32m      <a href='vscode-notebook-cell:/c%3A/Users/P311985/Documents/GitHub/tutorial_mario_saferl/mario_saferl.ipynb#X14sZmlsZQ%3D%3D?line=0'>1</a>\u001b[0m \u001b[39m# Explore the new environment\u001b[39;00m\n\u001b[0;32m      <a href='vscode-notebook-cell:/c%3A/Users/P311985/Documents/GitHub/tutorial_mario_saferl/mario_saferl.ipynb#X14sZmlsZQ%3D%3D?line=1'>2</a>\u001b[0m \n\u001b[0;32m      <a href='vscode-notebook-cell:/c%3A/Users/P311985/Documents/GitHub/tutorial_mario_saferl/mario_saferl.ipynb#X14sZmlsZQ%3D%3D?line=2'>3</a>\u001b[0m \u001b[39m# Reset environment\u001b[39;00m\n\u001b[1;32m----> <a href='vscode-notebook-cell:/c%3A/Users/P311985/Documents/GitHub/tutorial_mario_saferl/mario_saferl.ipynb#X14sZmlsZQ%3D%3D?line=3'>4</a>\u001b[0m env\u001b[39m.\u001b[39;49mreset()\n\u001b[0;32m      <a href='vscode-notebook-cell:/c%3A/Users/P311985/Documents/GitHub/tutorial_mario_saferl/mario_saferl.ipynb#X14sZmlsZQ%3D%3D?line=5'>6</a>\u001b[0m \u001b[39m# Sample one random action\u001b[39;00m\n\u001b[0;32m      <a href='vscode-notebook-cell:/c%3A/Users/P311985/Documents/GitHub/tutorial_mario_saferl/mario_saferl.ipynb#X14sZmlsZQ%3D%3D?line=6'>7</a>\u001b[0m action \u001b[39m=\u001b[39m env\u001b[39m.\u001b[39maction_space\u001b[39m.\u001b[39msample()\n",
      "File \u001b[1;32mc:\\Users\\P311985\\AppData\\Local\\miniconda3\\envs\\mario_thesis\\lib\\site-packages\\stable_baselines3\\common\\vec_env\\vec_frame_stack.py:38\u001b[0m, in \u001b[0;36mVecFrameStack.reset\u001b[1;34m(self)\u001b[0m\n\u001b[0;32m     37\u001b[0m \u001b[39mdef\u001b[39;00m \u001b[39mreset\u001b[39m(\u001b[39mself\u001b[39m) \u001b[39m-\u001b[39m\u001b[39m>\u001b[39m Union[np\u001b[39m.\u001b[39mndarray, Dict[\u001b[39mstr\u001b[39m, np\u001b[39m.\u001b[39mndarray]]:\n\u001b[1;32m---> 38\u001b[0m     observation \u001b[39m=\u001b[39m \u001b[39mself\u001b[39;49m\u001b[39m.\u001b[39;49mvenv\u001b[39m.\u001b[39;49mreset()  \u001b[39m# pytype:disable=annotation-type-mismatch\u001b[39;00m\n\u001b[0;32m     39\u001b[0m     observation \u001b[39m=\u001b[39m \u001b[39mself\u001b[39m\u001b[39m.\u001b[39mstacked_obs\u001b[39m.\u001b[39mreset(observation)\n\u001b[0;32m     40\u001b[0m     \u001b[39mreturn\u001b[39;00m observation\n",
      "File \u001b[1;32mc:\\Users\\P311985\\AppData\\Local\\miniconda3\\envs\\mario_thesis\\lib\\site-packages\\stable_baselines3\\common\\vec_env\\dummy_vec_env.py:74\u001b[0m, in \u001b[0;36mDummyVecEnv.reset\u001b[1;34m(self)\u001b[0m\n\u001b[0;32m     72\u001b[0m \u001b[39mdef\u001b[39;00m \u001b[39mreset\u001b[39m(\u001b[39mself\u001b[39m) \u001b[39m-\u001b[39m\u001b[39m>\u001b[39m VecEnvObs:\n\u001b[0;32m     73\u001b[0m     \u001b[39mfor\u001b[39;00m env_idx \u001b[39min\u001b[39;00m \u001b[39mrange\u001b[39m(\u001b[39mself\u001b[39m\u001b[39m.\u001b[39mnum_envs):\n\u001b[1;32m---> 74\u001b[0m         obs \u001b[39m=\u001b[39m \u001b[39mself\u001b[39;49m\u001b[39m.\u001b[39;49menvs[env_idx]\u001b[39m.\u001b[39;49mreset()\n\u001b[0;32m     75\u001b[0m         \u001b[39mself\u001b[39m\u001b[39m.\u001b[39m_save_obs(env_idx, obs)\n\u001b[0;32m     76\u001b[0m     \u001b[39mreturn\u001b[39;00m \u001b[39mself\u001b[39m\u001b[39m.\u001b[39m_obs_from_buf()\n",
      "File \u001b[1;32mc:\\Users\\P311985\\AppData\\Local\\miniconda3\\envs\\mario_thesis\\lib\\site-packages\\gym\\core.py:319\u001b[0m, in \u001b[0;36mObservationWrapper.reset\u001b[1;34m(self, **kwargs)\u001b[0m\n\u001b[0;32m    318\u001b[0m \u001b[39mdef\u001b[39;00m \u001b[39mreset\u001b[39m(\u001b[39mself\u001b[39m, \u001b[39m*\u001b[39m\u001b[39m*\u001b[39mkwargs):\n\u001b[1;32m--> 319\u001b[0m     observation \u001b[39m=\u001b[39m \u001b[39mself\u001b[39m\u001b[39m.\u001b[39menv\u001b[39m.\u001b[39mreset(\u001b[39m*\u001b[39m\u001b[39m*\u001b[39mkwargs)\n\u001b[0;32m    320\u001b[0m     \u001b[39mreturn\u001b[39;00m \u001b[39mself\u001b[39m\u001b[39m.\u001b[39mobservation(observation)\n",
      "File \u001b[1;32mc:\\Users\\P311985\\AppData\\Local\\miniconda3\\envs\\mario_thesis\\lib\\site-packages\\nes_py\\wrappers\\joypad_space.py:78\u001b[0m, in \u001b[0;36mJoypadSpace.reset\u001b[1;34m(self)\u001b[0m\n\u001b[0;32m     76\u001b[0m \u001b[39mdef\u001b[39;00m \u001b[39mreset\u001b[39m(\u001b[39mself\u001b[39m):\n\u001b[0;32m     77\u001b[0m \u001b[39m    \u001b[39m\u001b[39m\"\"\"Reset the environment and return the initial observation.\"\"\"\u001b[39;00m\n\u001b[1;32m---> 78\u001b[0m     \u001b[39mreturn\u001b[39;00m \u001b[39mself\u001b[39;49m\u001b[39m.\u001b[39;49menv\u001b[39m.\u001b[39;49mreset()\n",
      "File \u001b[1;32mc:\\Users\\P311985\\AppData\\Local\\miniconda3\\envs\\mario_thesis\\lib\\site-packages\\gym\\wrappers\\time_limit.py:27\u001b[0m, in \u001b[0;36mTimeLimit.reset\u001b[1;34m(self, **kwargs)\u001b[0m\n\u001b[0;32m     25\u001b[0m \u001b[39mdef\u001b[39;00m \u001b[39mreset\u001b[39m(\u001b[39mself\u001b[39m, \u001b[39m*\u001b[39m\u001b[39m*\u001b[39mkwargs):\n\u001b[0;32m     26\u001b[0m     \u001b[39mself\u001b[39m\u001b[39m.\u001b[39m_elapsed_steps \u001b[39m=\u001b[39m \u001b[39m0\u001b[39m\n\u001b[1;32m---> 27\u001b[0m     \u001b[39mreturn\u001b[39;00m \u001b[39mself\u001b[39m\u001b[39m.\u001b[39menv\u001b[39m.\u001b[39mreset(\u001b[39m*\u001b[39m\u001b[39m*\u001b[39mkwargs)\n",
      "File \u001b[1;32mc:\\Users\\P311985\\AppData\\Local\\miniconda3\\envs\\mario_thesis\\lib\\site-packages\\nes_py\\nes_env.py:265\u001b[0m, in \u001b[0;36mNESEnv.reset\u001b[1;34m(self, seed, options, return_info)\u001b[0m\n\u001b[0;32m    263\u001b[0m \u001b[39m# reset the emulator\u001b[39;00m\n\u001b[0;32m    264\u001b[0m \u001b[39mif\u001b[39;00m \u001b[39mself\u001b[39m\u001b[39m.\u001b[39m_has_backup:\n\u001b[1;32m--> 265\u001b[0m     \u001b[39mself\u001b[39;49m\u001b[39m.\u001b[39;49m_restore()\n\u001b[0;32m    266\u001b[0m \u001b[39melse\u001b[39;00m:\n\u001b[0;32m    267\u001b[0m     _LIB\u001b[39m.\u001b[39mReset(\u001b[39mself\u001b[39m\u001b[39m.\u001b[39m_env)\n",
      "File \u001b[1;32mc:\\Users\\P311985\\AppData\\Local\\miniconda3\\envs\\mario_thesis\\lib\\site-packages\\nes_py\\nes_env.py:220\u001b[0m, in \u001b[0;36mNESEnv._restore\u001b[1;34m(self)\u001b[0m\n\u001b[0;32m    218\u001b[0m \u001b[39mdef\u001b[39;00m \u001b[39m_restore\u001b[39m(\u001b[39mself\u001b[39m):\n\u001b[0;32m    219\u001b[0m \u001b[39m    \u001b[39m\u001b[39m\"\"\"Restore the backup state into the NES emulator.\"\"\"\u001b[39;00m\n\u001b[1;32m--> 220\u001b[0m     _LIB\u001b[39m.\u001b[39;49mRestore(\u001b[39mself\u001b[39;49m\u001b[39m.\u001b[39;49m_env)\n",
      "\u001b[1;31mOSError\u001b[0m: exception: access violation reading 0x000000000003C200"
     ]
    }
   ],
   "source": [
    "# Explore the new environment\n",
    "\n",
    "# Reset environment\n",
    "env.reset()\n",
    "\n",
    "# Sample one random action\n",
    "action = env.action_space.sample()\n",
    "\n",
    "# One agent-environment iteration \n",
    "next_state, reward, done, info = env.step([5])\n",
    "\n",
    "# Print results\n",
    "print('The shape of the states is {}'.format(next_state.shape))\n",
    "\n",
    "print('The reward for this iteration is {}'.format(reward))\n",
    "\n",
    "print('The done flag in this iteration is {}'.format(done))\n",
    "\n",
    "print('Here is more information about this iteration {}'.format(info))"
   ]
  },
  {
   "cell_type": "code",
   "execution_count": null,
   "metadata": {},
   "outputs": [],
   "source": [
    "# Visualize the new state, i.e, past 4 frames\n",
    "plt.figure(figsize=(20,16))\n",
    "for idx in range(next_state.shape[3]):\n",
    "    plt.subplot(1,4,idx+1)\n",
    "    plt.imshow(next_state[0][:,:,idx])\n",
    "plt.show()"
   ]
  },
  {
   "cell_type": "code",
   "execution_count": null,
   "metadata": {},
   "outputs": [],
   "source": [
    "# Create and train a model\n",
    "model = PPO(policy = 'CnnPolicy', env = env, verbose = 1)\n",
    "model.learn(total_timesteps = 1000)                       # Chanche to 100 for testing purposes"
   ]
  },
  {
   "cell_type": "code",
   "execution_count": null,
   "metadata": {},
   "outputs": [],
   "source": [
    "# Start the game \n",
    "state = env.reset()\n",
    "# Loop through the game\n",
    "while True: \n",
    "    \n",
    "    action, _ = model.predict(state)\n",
    "    state, reward, done, info = env.step(action)\n",
    "    env.render()"
   ]
  }
 ],
 "metadata": {
  "kernelspec": {
   "display_name": "mario_env",
   "language": "python",
   "name": "python3"
  },
  "language_info": {
   "codemirror_mode": {
    "name": "ipython",
    "version": 3
   },
   "file_extension": ".py",
   "mimetype": "text/x-python",
   "name": "python",
   "nbconvert_exporter": "python",
   "pygments_lexer": "ipython3",
   "version": "3.9.18"
  },
  "orig_nbformat": 4
 },
 "nbformat": 4,
 "nbformat_minor": 2
}
