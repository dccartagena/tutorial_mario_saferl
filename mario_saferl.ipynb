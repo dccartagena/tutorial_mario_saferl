{
 "cells": [
  {
   "cell_type": "markdown",
   "metadata": {},
   "source": [
    "# Reinforcement Learning in Mario - Tutorial\n",
    "\n",
    "This tutorial will gude you through the setup process for the Mario Environment and Stablebaselines library\n",
    "\n",
    "## First steps\n",
    "\n",
    "- Create a conda virtual environment with Python 3.9\n",
    "    - Make sure you have anaconda installed in your computer - (Conda Installation)[https://conda.io/projects/conda/en/latest/user-guide/install/index.html]\n",
    "    -  Open the Conda console and use the following line to create the virtual environment: \n",
    "        ```console\n",
    "        conda create --name my_environment python=3.9\n",
    "        conda activate my_environment\n",
    "        ```\n",
    "        *Note the new environment only has Python, we will install the dependencies along the way to detect potential compatibility issues.\n",
    "\n",
    "- Setup the VScode IDE to run Python from the new environment\n",
    "    - Open the command palette, use the following shortcut: Control + Shift + P or under the menu \"view.\"\n",
    "    - Type in the textbox \"select interpreter\" and choose the python from the new virtual environment.\n",
    "    - For further information about this process, follow the link: (Python environments in VS Code)[https://code.visualstudio.com/docs/python/environments]\n",
    "\n",
    "- As next step, please create a private repository in GitHub and share it with (@dccartagena)[https://github.com/dccartagena]. Then clone it in your computer and save everything there. \n",
    "    - If you are not familiar with GitHub, I recommend you to use the visual interface to pull/push/fetch changes in your code: (GitHub Desktop)[https://desktop.github.com/]\n",
    "\n",
    "- Now, let us proceed to create a Jupyter notebook or python file, e.g. mario_saferl.ipynb or mario_saferl.py"
   ]
  },
  {
   "cell_type": "markdown",
   "metadata": {},
   "source": [
    "## Installing The Mario Environment\n",
    "\n",
    "- Make sure you are working in the virtual environment. You may check it on the Conda console.\n",
    "- Run the following commands in the Conda console:\n",
    "\n",
    "    ```console \n",
    "    pip install --user wheel==0.38.0 pip install setuptools==65.5.0 \n",
    "    pip install stable-baselines3==1.8.0\n",
    "    pip install nes-py\n",
    "    pip install gym-super-mario-bros\n",
    "    pip install opencv-python\n",
    "    ```\n",
    "    - In case you face a compatibility issue with nes-py, chances are that the C++ distribution in your pc is not compatible. Thus, follow the instruction in the first comment of this Stackoverflow question: (How to solve \"error: Microsoft Visual C++ 14.0 or greater is required\" when installing Python packages?)[https://stackoverflow.com/questions/64261546/how-to-solve-error-microsoft-visual-c-14-0-or-greater-is-required-when-inst]\n",
    "        - Go to the control panel in your pc and under the *\"Install/Uninstall Apps,\"* search for the program *\"Visual Studio Build Tools,\"* then click in **Modify** the installation. \n",
    "        - Then, use the installation wizard to update the C++ distribution in your machine.\n",
    "\n",
    "Note we will work with deprecated libraries due to the gym-super-mario-bros environment."
   ]
  },
  {
   "cell_type": "markdown",
   "metadata": {},
   "source": [
    "## Let Us Create A Random Agent"
   ]
  },
  {
   "cell_type": "code",
   "execution_count": 1,
   "metadata": {},
   "outputs": [],
   "source": [
    "# Import libraries\n",
    "\n",
    "from PIL import Image           # Image management\n",
    "import numpy as np              # Numerical computing\n",
    "import matplotlib.pyplot as plt # Plotting\n",
    "\n",
    "from nes_py.wrappers import JoypadSpace     # Joypad wrapper in NES Emulator\n",
    "\n",
    "import gym_super_mario_bros                                 # Super Mario environment\n",
    "from gym_super_mario_bros.actions import SIMPLE_MOVEMENT    # Import the simplified controls"
   ]
  },
  {
   "cell_type": "code",
   "execution_count": 2,
   "metadata": {},
   "outputs": [],
   "source": [
    "# Create environment - Note there are different environments, for more info: https://pypi.org/project/gym-super-mario-bros/\n",
    "env = gym_super_mario_bros.make(\"SuperMarioBros-v2\")\n",
    "\n",
    "# Setup simplified controls\n",
    "env = JoypadSpace(env, SIMPLE_MOVEMENT)\n",
    "\n",
    "# actions for simple movement\n",
    "# SIMPLE_MOVEMENT = [\n",
    "#     ['NOOP'],\n",
    "#     ['right'],\n",
    "#     ['right', 'A'],\n",
    "#     ['right', 'B'],\n",
    "#     ['right', 'A', 'B'],\n",
    "#     ['A'],\n",
    "#     ['left'],\n",
    "# ]"
   ]
  },
  {
   "cell_type": "code",
   "execution_count": 3,
   "metadata": {},
   "outputs": [
    {
     "name": "stdout",
     "output_type": "stream",
     "text": [
      "The shape of the states is (240, 256, 3)\n",
      "The reward for this iteration is 0.0\n",
      "The done flag in this iteration is False\n",
      "Here is more information about this iteration {'coins': 0, 'flag_get': False, 'life': 2, 'score': 0, 'stage': 1, 'status': 'small', 'time': 400, 'world': 1, 'x_pos': 40, 'y_pos': 79}\n"
     ]
    }
   ],
   "source": [
    "# Let us explore the space and action space in this environment\n",
    "\n",
    "# Reset environment\n",
    "env.reset()\n",
    "\n",
    "# Sample one random action\n",
    "action = env.action_space.sample()\n",
    "\n",
    "# One agent-environment iteration \n",
    "next_state, reward, done, info = env.step(action)\n",
    "\n",
    "# Print results\n",
    "print('The shape of the states is {}'.format(next_state.shape))\n",
    "\n",
    "print('The reward for this iteration is {}'.format(reward))\n",
    "\n",
    "print('The done flag in this iteration is {}'.format(done))\n",
    "\n",
    "print('Here is more information about this iteration {}'.format(info))"
   ]
  },
  {
   "cell_type": "code",
   "execution_count": 4,
   "metadata": {},
   "outputs": [
    {
     "data": {
      "text/plain": [
       "<matplotlib.image.AxesImage at 0x11c210a60>"
      ]
     },
     "execution_count": 4,
     "metadata": {},
     "output_type": "execute_result"
    },
    {
     "data": {
      "image/png": "[encoded data removed]",
      "text/plain": [
       "<Figure size 2000x1600 with 1 Axes>"
      ]
     },
     "metadata": {},
     "output_type": "display_data"
    }
   ],
   "source": [
    "# Plot next state\n",
    "plt.figure(figsize=(20, 16))\n",
    "plt.imshow(next_state)"
   ]
  },
  {
   "cell_type": "code",
   "execution_count": 5,
   "metadata": {},
   "outputs": [
    {
     "name": "stdout",
     "output_type": "stream",
     "text": [
      "The reward in step 0 is 0.0\n",
      "The reward in step 1 is 0.0\n",
      "The reward in step 2 is 0.0\n",
      "The reward in step 3 is 0.0\n",
      "The reward in step 4 is 0.0\n",
      "The reward in step 5 is 1.0\n",
      "The reward in step 6 is 0.0\n",
      "The reward in step 7 is 0.0\n",
      "The reward in step 8 is 1.0\n",
      "The reward in step 9 is 0.0\n",
      "The reward in step 10 is 1.0\n",
      "The reward in step 11 is 0.0\n",
      "The reward in step 12 is 1.0\n",
      "The reward in step 13 is 0.0\n",
      "The reward in step 14 is 1.0\n",
      "The reward in step 15 is 1.0\n",
      "The reward in step 16 is 1.0\n",
      "The reward in step 17 is 0.0\n",
      "The reward in step 18 is 0.0\n",
      "The reward in step 19 is 1.0\n",
      "The reward in step 20 is 1.0\n",
      "The reward in step 21 is 1.0\n",
      "The reward in step 22 is 1.0\n",
      "The reward in step 23 is 1.0\n",
      "The reward in step 24 is 1.0\n",
      "The reward in step 25 is 1.0\n",
      "The reward in step 26 is 1.0\n",
      "The reward in step 27 is 1.0\n",
      "The reward in step 28 is 1.0\n",
      "The reward in step 29 is 2.0\n",
      "The reward in step 30 is 1.0\n",
      "The reward in step 31 is 1.0\n",
      "The reward in step 32 is 1.0\n",
      "The reward in step 33 is 1.0\n",
      "The reward in step 34 is 2.0\n",
      "The reward in step 35 is 1.0\n",
      "The reward in step 36 is 1.0\n",
      "The reward in step 37 is 2.0\n",
      "The reward in step 38 is 0.0\n",
      "The reward in step 39 is 2.0\n",
      "The reward in step 40 is 2.0\n",
      "The reward in step 41 is 2.0\n",
      "The reward in step 42 is 1.0\n",
      "The reward in step 43 is 2.0\n",
      "The reward in step 44 is 2.0\n",
      "The reward in step 45 is 1.0\n",
      "The reward in step 46 is 2.0\n",
      "The reward in step 47 is 2.0\n",
      "The reward in step 48 is 1.0\n",
      "The reward in step 49 is 2.0\n",
      "The reward in step 50 is 2.0\n",
      "The reward in step 51 is 2.0\n",
      "The reward in step 52 is 1.0\n",
      "The reward in step 53 is 2.0\n",
      "The reward in step 54 is 2.0\n",
      "The reward in step 55 is 2.0\n",
      "The reward in step 56 is 1.0\n",
      "The reward in step 57 is 2.0\n",
      "The reward in step 58 is 1.0\n",
      "The reward in step 59 is 2.0\n",
      "The reward in step 60 is 1.0\n",
      "The reward in step 61 is 2.0\n",
      "The reward in step 62 is 2.0\n",
      "The reward in step 63 is 2.0\n",
      "The reward in step 64 is 1.0\n",
      "The reward in step 65 is 2.0\n",
      "The reward in step 66 is 2.0\n",
      "The reward in step 67 is 1.0\n",
      "The reward in step 68 is 2.0\n",
      "The reward in step 69 is 2.0\n",
      "The reward in step 70 is 1.0\n",
      "The reward in step 71 is 2.0\n",
      "The reward in step 72 is 2.0\n",
      "The reward in step 73 is 2.0\n",
      "The reward in step 74 is 1.0\n",
      "The reward in step 75 is 2.0\n",
      "The reward in step 76 is 2.0\n",
      "The reward in step 77 is 2.0\n",
      "The reward in step 78 is 0.0\n",
      "The reward in step 79 is 2.0\n",
      "The reward in step 80 is 2.0\n",
      "The reward in step 81 is 1.0\n",
      "The reward in step 82 is 2.0\n",
      "The reward in step 83 is 2.0\n",
      "The reward in step 84 is 2.0\n",
      "The reward in step 85 is 1.0\n",
      "The reward in step 86 is 2.0\n",
      "The reward in step 87 is 2.0\n",
      "The reward in step 88 is 1.0\n",
      "The reward in step 89 is 2.0\n",
      "The reward in step 90 is 2.0\n",
      "The reward in step 91 is 2.0\n",
      "The reward in step 92 is 1.0\n",
      "The reward in step 93 is 2.0\n",
      "The reward in step 94 is 2.0\n",
      "The reward in step 95 is 1.0\n",
      "The reward in step 96 is 2.0\n",
      "The reward in step 97 is 2.0\n",
      "The reward in step 98 is 1.0\n",
      "The reward in step 99 is 1.0\n"
     ]
    }
   ],
   "source": [
    "# Random Agent Loop\n",
    "\n",
    "# Done flag - Termination of episode\n",
    "done = True\n",
    "\n",
    "# Number of iterations\n",
    "num_iterations = 100\n",
    "\n",
    "# Iteration loop\n",
    "for steps in range(num_iterations):\n",
    "    \n",
    "    # Check if the episode is done\n",
    "    if done:\n",
    "        env.reset()\n",
    "    \n",
    "    # Sample one random action\n",
    "    action = env.action_space.sample()\n",
    "    \n",
    "    # agent-environment iteration \n",
    "    next_state, reward, done, info = env.step(action)\n",
    "    \n",
    "    # Render may crash Jupyter\n",
    "    env.render()\n",
    "    \n",
    "    # Check for new reward\n",
    "    print('The reward in step {} is {}'.format(steps, reward))\n",
    "    \n",
    "# Close the environment        \n",
    "env.close()"
   ]
  },
  {
   "cell_type": "markdown",
   "metadata": {},
   "source": [
    "# Let Us Create An RL agent"
   ]
  },
  {
   "cell_type": "code",
   "execution_count": 3,
   "metadata": {},
   "outputs": [],
   "source": [
    "# Wrappers to vectorize and stack frames\n",
    "from stable_baselines3.common.vec_env import VecFrameStack, DummyVecEnv\n",
    "\n",
    "# RL algorithms in the library\n",
    "from stable_baselines3 import DQN, A2C, DDPG, PPO, SAC, TD3\n",
    "\n",
    "# Import Frame Stacker Wrapper and GrayScaling Wrapper\n",
    "from gym.wrappers import GrayScaleObservation"
   ]
  },
  {
   "cell_type": "code",
   "execution_count": 4,
   "metadata": {},
   "outputs": [],
   "source": [
    "# Use the wrappers\n",
    "\n",
    "# Grayscale\n",
    "env = GrayScaleObservation(env, keep_dim=True)\n",
    "\n",
    "# Vectorize environment - call the environment in sequence on the current Python process\n",
    "env =  DummyVecEnv([lambda: env])\n",
    "\n",
    "# Stack frames\n",
    "env = VecFrameStack(env, n_stack = 4, channels_order='last')"
   ]
  },
  {
   "cell_type": "code",
   "execution_count": 5,
   "metadata": {},
   "outputs": [
    {
     "ename": "ImportError",
     "evalue": "DLL load failed while importing cv2: The specified module could not be found.",
     "output_type": "error",
     "traceback": [
      "\u001b[1;31m---------------------------------------------------------------------------\u001b[0m",
      "\u001b[1;31mImportError\u001b[0m                               Traceback (most recent call last)",
      "\u001b[1;32mc:\\Users\\P311985\\Documents\\GitHub\\tutorial_mario_saferl\\mario_saferl.ipynb Cell 12\u001b[0m line \u001b[0;36m4\n\u001b[0;32m      <a href='vscode-notebook-cell:/c%3A/Users/P311985/Documents/GitHub/tutorial_mario_saferl/mario_saferl.ipynb#X13sZmlsZQ%3D%3D?line=0'>1</a>\u001b[0m \u001b[39m# Explore the new environment\u001b[39;00m\n\u001b[0;32m      <a href='vscode-notebook-cell:/c%3A/Users/P311985/Documents/GitHub/tutorial_mario_saferl/mario_saferl.ipynb#X13sZmlsZQ%3D%3D?line=1'>2</a>\u001b[0m \n\u001b[0;32m      <a href='vscode-notebook-cell:/c%3A/Users/P311985/Documents/GitHub/tutorial_mario_saferl/mario_saferl.ipynb#X13sZmlsZQ%3D%3D?line=2'>3</a>\u001b[0m \u001b[39m# Reset environment\u001b[39;00m\n\u001b[1;32m----> <a href='vscode-notebook-cell:/c%3A/Users/P311985/Documents/GitHub/tutorial_mario_saferl/mario_saferl.ipynb#X13sZmlsZQ%3D%3D?line=3'>4</a>\u001b[0m env\u001b[39m.\u001b[39;49mreset()\n\u001b[0;32m      <a href='vscode-notebook-cell:/c%3A/Users/P311985/Documents/GitHub/tutorial_mario_saferl/mario_saferl.ipynb#X13sZmlsZQ%3D%3D?line=5'>6</a>\u001b[0m \u001b[39m# Sample one random action\u001b[39;00m\n\u001b[0;32m      <a href='vscode-notebook-cell:/c%3A/Users/P311985/Documents/GitHub/tutorial_mario_saferl/mario_saferl.ipynb#X13sZmlsZQ%3D%3D?line=6'>7</a>\u001b[0m action \u001b[39m=\u001b[39m env\u001b[39m.\u001b[39maction_space\u001b[39m.\u001b[39msample()\n",
      "File \u001b[1;32mc:\\Users\\P311985\\AppData\\Local\\miniconda3\\envs\\mario_thesis\\lib\\site-packages\\stable_baselines3\\common\\vec_env\\vec_frame_stack.py:38\u001b[0m, in \u001b[0;36mVecFrameStack.reset\u001b[1;34m(self)\u001b[0m\n\u001b[0;32m     37\u001b[0m \u001b[39mdef\u001b[39;00m \u001b[39mreset\u001b[39m(\u001b[39mself\u001b[39m) \u001b[39m-\u001b[39m\u001b[39m>\u001b[39m Union[np\u001b[39m.\u001b[39mndarray, Dict[\u001b[39mstr\u001b[39m, np\u001b[39m.\u001b[39mndarray]]:\n\u001b[1;32m---> 38\u001b[0m     observation \u001b[39m=\u001b[39m \u001b[39mself\u001b[39;49m\u001b[39m.\u001b[39;49mvenv\u001b[39m.\u001b[39;49mreset()  \u001b[39m# pytype:disable=annotation-type-mismatch\u001b[39;00m\n\u001b[0;32m     39\u001b[0m     observation \u001b[39m=\u001b[39m \u001b[39mself\u001b[39m\u001b[39m.\u001b[39mstacked_obs\u001b[39m.\u001b[39mreset(observation)\n\u001b[0;32m     40\u001b[0m     \u001b[39mreturn\u001b[39;00m observation\n",
      "File \u001b[1;32mc:\\Users\\P311985\\AppData\\Local\\miniconda3\\envs\\mario_thesis\\lib\\site-packages\\stable_baselines3\\common\\vec_env\\dummy_vec_env.py:74\u001b[0m, in \u001b[0;36mDummyVecEnv.reset\u001b[1;34m(self)\u001b[0m\n\u001b[0;32m     72\u001b[0m \u001b[39mdef\u001b[39;00m \u001b[39mreset\u001b[39m(\u001b[39mself\u001b[39m) \u001b[39m-\u001b[39m\u001b[39m>\u001b[39m VecEnvObs:\n\u001b[0;32m     73\u001b[0m     \u001b[39mfor\u001b[39;00m env_idx \u001b[39min\u001b[39;00m \u001b[39mrange\u001b[39m(\u001b[39mself\u001b[39m\u001b[39m.\u001b[39mnum_envs):\n\u001b[1;32m---> 74\u001b[0m         obs \u001b[39m=\u001b[39m \u001b[39mself\u001b[39;49m\u001b[39m.\u001b[39;49menvs[env_idx]\u001b[39m.\u001b[39;49mreset()\n\u001b[0;32m     75\u001b[0m         \u001b[39mself\u001b[39m\u001b[39m.\u001b[39m_save_obs(env_idx, obs)\n\u001b[0;32m     76\u001b[0m     \u001b[39mreturn\u001b[39;00m \u001b[39mself\u001b[39m\u001b[39m.\u001b[39m_obs_from_buf()\n",
      "File \u001b[1;32mc:\\Users\\P311985\\AppData\\Local\\miniconda3\\envs\\mario_thesis\\lib\\site-packages\\gym\\core.py:320\u001b[0m, in \u001b[0;36mObservationWrapper.reset\u001b[1;34m(self, **kwargs)\u001b[0m\n\u001b[0;32m    318\u001b[0m \u001b[39mdef\u001b[39;00m \u001b[39mreset\u001b[39m(\u001b[39mself\u001b[39m, \u001b[39m*\u001b[39m\u001b[39m*\u001b[39mkwargs):\n\u001b[0;32m    319\u001b[0m     observation \u001b[39m=\u001b[39m \u001b[39mself\u001b[39m\u001b[39m.\u001b[39menv\u001b[39m.\u001b[39mreset(\u001b[39m*\u001b[39m\u001b[39m*\u001b[39mkwargs)\n\u001b[1;32m--> 320\u001b[0m     \u001b[39mreturn\u001b[39;00m \u001b[39mself\u001b[39;49m\u001b[39m.\u001b[39;49mobservation(observation)\n",
      "File \u001b[1;32mc:\\Users\\P311985\\AppData\\Local\\miniconda3\\envs\\mario_thesis\\lib\\site-packages\\gym\\wrappers\\gray_scale_observation.py:29\u001b[0m, in \u001b[0;36mGrayScaleObservation.observation\u001b[1;34m(self, observation)\u001b[0m\n\u001b[0;32m     28\u001b[0m \u001b[39mdef\u001b[39;00m \u001b[39mobservation\u001b[39m(\u001b[39mself\u001b[39m, observation):\n\u001b[1;32m---> 29\u001b[0m     \u001b[39mimport\u001b[39;00m \u001b[39mcv2\u001b[39;00m\n\u001b[0;32m     31\u001b[0m     observation \u001b[39m=\u001b[39m cv2\u001b[39m.\u001b[39mcvtColor(observation, cv2\u001b[39m.\u001b[39mCOLOR_RGB2GRAY)\n\u001b[0;32m     32\u001b[0m     \u001b[39mif\u001b[39;00m \u001b[39mself\u001b[39m\u001b[39m.\u001b[39mkeep_dim:\n",
      "\u001b[1;31mImportError\u001b[0m: DLL load failed while importing cv2: The specified module could not be found."
     ]
    }
   ],
   "source": [
    "# Explore the new environment\n",
    "\n",
    "# Reset environment\n",
    "env.reset()\n",
    "\n",
    "# Sample one random action\n",
    "action = env.action_space.sample()\n",
    "\n",
    "# One agent-environment iteration \n",
    "next_state, reward, done, info = env.step([5])\n",
    "\n",
    "# Print results\n",
    "print('The shape of the states is {}'.format(next_state.shape))\n",
    "\n",
    "print('The reward for this iteration is {}'.format(reward))\n",
    "\n",
    "print('The done flag in this iteration is {}'.format(done))\n",
    "\n",
    "print('Here is more information about this iteration {}'.format(info))"
   ]
  },
  {
   "cell_type": "code",
   "execution_count": 9,
   "metadata": {},
   "outputs": [
    {
     "data": {
      "image/png": "[encoded data removed]",
      "text/plain": [
       "<Figure size 2000x1600 with 4 Axes>"
      ]
     },
     "metadata": {},
     "output_type": "display_data"
    }
   ],
   "source": [
    "# Visualize the new state, i.e, past 4 frames\n",
    "plt.figure(figsize=(20,16))\n",
    "for idx in range(next_state.shape[3]):\n",
    "    plt.subplot(1,4,idx+1)\n",
    "    plt.imshow(next_state[0][:,:,idx])\n",
    "plt.show()"
   ]
  },
  {
   "cell_type": "code",
   "execution_count": 5,
   "metadata": {},
   "outputs": [
    {
     "name": "stdout",
     "output_type": "stream",
     "text": [
      "Using cpu device\n",
      "Wrapping the env in a VecTransposeImage.\n"
     ]
    },
    {
     "ename": "ModuleNotFoundError",
     "evalue": "No module named 'cv2'",
     "output_type": "error",
     "traceback": [
      "\u001b[1;31m---------------------------------------------------------------------------\u001b[0m",
      "\u001b[1;31mModuleNotFoundError\u001b[0m                       Traceback (most recent call last)",
      "\u001b[1;32mc:\\Users\\P311985\\Documents\\GitHub\\tutorial_mario_saferl\\mario_saferl.ipynb Cell 13\u001b[0m line \u001b[0;36m3\n\u001b[0;32m      <a href='vscode-notebook-cell:/c%3A/Users/P311985/Documents/GitHub/tutorial_mario_saferl/mario_saferl.ipynb#X15sZmlsZQ%3D%3D?line=0'>1</a>\u001b[0m \u001b[39m# Create and train a model\u001b[39;00m\n\u001b[0;32m      <a href='vscode-notebook-cell:/c%3A/Users/P311985/Documents/GitHub/tutorial_mario_saferl/mario_saferl.ipynb#X15sZmlsZQ%3D%3D?line=1'>2</a>\u001b[0m model \u001b[39m=\u001b[39m PPO(policy \u001b[39m=\u001b[39m \u001b[39m'\u001b[39m\u001b[39mCnnPolicy\u001b[39m\u001b[39m'\u001b[39m, env \u001b[39m=\u001b[39m env, verbose \u001b[39m=\u001b[39m \u001b[39m1\u001b[39m)\n\u001b[1;32m----> <a href='vscode-notebook-cell:/c%3A/Users/P311985/Documents/GitHub/tutorial_mario_saferl/mario_saferl.ipynb#X15sZmlsZQ%3D%3D?line=2'>3</a>\u001b[0m model\u001b[39m.\u001b[39;49mlearn(total_timesteps \u001b[39m=\u001b[39;49m \u001b[39m100000\u001b[39;49m)\n",
      "File \u001b[1;32mc:\\Users\\P311985\\AppData\\Local\\miniconda3\\envs\\mario_thesis\\lib\\site-packages\\stable_baselines3\\ppo\\ppo.py:308\u001b[0m, in \u001b[0;36mPPO.learn\u001b[1;34m(self, total_timesteps, callback, log_interval, tb_log_name, reset_num_timesteps, progress_bar)\u001b[0m\n\u001b[0;32m    299\u001b[0m \u001b[39mdef\u001b[39;00m \u001b[39mlearn\u001b[39m(\n\u001b[0;32m    300\u001b[0m     \u001b[39mself\u001b[39m: SelfPPO,\n\u001b[0;32m    301\u001b[0m     total_timesteps: \u001b[39mint\u001b[39m,\n\u001b[1;32m   (...)\u001b[0m\n\u001b[0;32m    306\u001b[0m     progress_bar: \u001b[39mbool\u001b[39m \u001b[39m=\u001b[39m \u001b[39mFalse\u001b[39;00m,\n\u001b[0;32m    307\u001b[0m ) \u001b[39m-\u001b[39m\u001b[39m>\u001b[39m SelfPPO:\n\u001b[1;32m--> 308\u001b[0m     \u001b[39mreturn\u001b[39;00m \u001b[39msuper\u001b[39;49m()\u001b[39m.\u001b[39;49mlearn(\n\u001b[0;32m    309\u001b[0m         total_timesteps\u001b[39m=\u001b[39;49mtotal_timesteps,\n\u001b[0;32m    310\u001b[0m         callback\u001b[39m=\u001b[39;49mcallback,\n\u001b[0;32m    311\u001b[0m         log_interval\u001b[39m=\u001b[39;49mlog_interval,\n\u001b[0;32m    312\u001b[0m         tb_log_name\u001b[39m=\u001b[39;49mtb_log_name,\n\u001b[0;32m    313\u001b[0m         reset_num_timesteps\u001b[39m=\u001b[39;49mreset_num_timesteps,\n\u001b[0;32m    314\u001b[0m         progress_bar\u001b[39m=\u001b[39;49mprogress_bar,\n\u001b[0;32m    315\u001b[0m     )\n",
      "File \u001b[1;32mc:\\Users\\P311985\\AppData\\Local\\miniconda3\\envs\\mario_thesis\\lib\\site-packages\\stable_baselines3\\common\\on_policy_algorithm.py:239\u001b[0m, in \u001b[0;36mOnPolicyAlgorithm.learn\u001b[1;34m(self, total_timesteps, callback, log_interval, tb_log_name, reset_num_timesteps, progress_bar)\u001b[0m\n\u001b[0;32m    228\u001b[0m \u001b[39mdef\u001b[39;00m \u001b[39mlearn\u001b[39m(\n\u001b[0;32m    229\u001b[0m     \u001b[39mself\u001b[39m: SelfOnPolicyAlgorithm,\n\u001b[0;32m    230\u001b[0m     total_timesteps: \u001b[39mint\u001b[39m,\n\u001b[1;32m   (...)\u001b[0m\n\u001b[0;32m    235\u001b[0m     progress_bar: \u001b[39mbool\u001b[39m \u001b[39m=\u001b[39m \u001b[39mFalse\u001b[39;00m,\n\u001b[0;32m    236\u001b[0m ) \u001b[39m-\u001b[39m\u001b[39m>\u001b[39m SelfOnPolicyAlgorithm:\n\u001b[0;32m    237\u001b[0m     iteration \u001b[39m=\u001b[39m \u001b[39m0\u001b[39m\n\u001b[1;32m--> 239\u001b[0m     total_timesteps, callback \u001b[39m=\u001b[39m \u001b[39mself\u001b[39;49m\u001b[39m.\u001b[39;49m_setup_learn(\n\u001b[0;32m    240\u001b[0m         total_timesteps,\n\u001b[0;32m    241\u001b[0m         callback,\n\u001b[0;32m    242\u001b[0m         reset_num_timesteps,\n\u001b[0;32m    243\u001b[0m         tb_log_name,\n\u001b[0;32m    244\u001b[0m         progress_bar,\n\u001b[0;32m    245\u001b[0m     )\n\u001b[0;32m    247\u001b[0m     callback\u001b[39m.\u001b[39mon_training_start(\u001b[39mlocals\u001b[39m(), \u001b[39mglobals\u001b[39m())\n\u001b[0;32m    249\u001b[0m     \u001b[39mwhile\u001b[39;00m \u001b[39mself\u001b[39m\u001b[39m.\u001b[39mnum_timesteps \u001b[39m<\u001b[39m total_timesteps:\n",
      "File \u001b[1;32mc:\\Users\\P311985\\AppData\\Local\\miniconda3\\envs\\mario_thesis\\lib\\site-packages\\stable_baselines3\\common\\base_class.py:412\u001b[0m, in \u001b[0;36mBaseAlgorithm._setup_learn\u001b[1;34m(self, total_timesteps, callback, reset_num_timesteps, tb_log_name, progress_bar)\u001b[0m\n\u001b[0;32m    410\u001b[0m \u001b[39m# Avoid resetting the environment when calling ``.learn()`` consecutive times\u001b[39;00m\n\u001b[0;32m    411\u001b[0m \u001b[39mif\u001b[39;00m reset_num_timesteps \u001b[39mor\u001b[39;00m \u001b[39mself\u001b[39m\u001b[39m.\u001b[39m_last_obs \u001b[39mis\u001b[39;00m \u001b[39mNone\u001b[39;00m:\n\u001b[1;32m--> 412\u001b[0m     \u001b[39mself\u001b[39m\u001b[39m.\u001b[39m_last_obs \u001b[39m=\u001b[39m \u001b[39mself\u001b[39;49m\u001b[39m.\u001b[39;49menv\u001b[39m.\u001b[39;49mreset()  \u001b[39m# pytype: disable=annotation-type-mismatch\u001b[39;00m\n\u001b[0;32m    413\u001b[0m     \u001b[39mself\u001b[39m\u001b[39m.\u001b[39m_last_episode_starts \u001b[39m=\u001b[39m np\u001b[39m.\u001b[39mones((\u001b[39mself\u001b[39m\u001b[39m.\u001b[39menv\u001b[39m.\u001b[39mnum_envs,), dtype\u001b[39m=\u001b[39m\u001b[39mbool\u001b[39m)\n\u001b[0;32m    414\u001b[0m     \u001b[39m# Retrieve unnormalized observation for saving into the buffer\u001b[39;00m\n",
      "File \u001b[1;32mc:\\Users\\P311985\\AppData\\Local\\miniconda3\\envs\\mario_thesis\\lib\\site-packages\\stable_baselines3\\common\\vec_env\\vec_transpose.py:110\u001b[0m, in \u001b[0;36mVecTransposeImage.reset\u001b[1;34m(self)\u001b[0m\n\u001b[0;32m    106\u001b[0m \u001b[39mdef\u001b[39;00m \u001b[39mreset\u001b[39m(\u001b[39mself\u001b[39m) \u001b[39m-\u001b[39m\u001b[39m>\u001b[39m Union[np\u001b[39m.\u001b[39mndarray, Dict]:\n\u001b[0;32m    107\u001b[0m \u001b[39m    \u001b[39m\u001b[39m\"\"\"\u001b[39;00m\n\u001b[0;32m    108\u001b[0m \u001b[39m    Reset all environments\u001b[39;00m\n\u001b[0;32m    109\u001b[0m \u001b[39m    \"\"\"\u001b[39;00m\n\u001b[1;32m--> 110\u001b[0m     \u001b[39mreturn\u001b[39;00m \u001b[39mself\u001b[39m\u001b[39m.\u001b[39mtranspose_observations(\u001b[39mself\u001b[39;49m\u001b[39m.\u001b[39;49mvenv\u001b[39m.\u001b[39;49mreset())\n",
      "File \u001b[1;32mc:\\Users\\P311985\\AppData\\Local\\miniconda3\\envs\\mario_thesis\\lib\\site-packages\\stable_baselines3\\common\\vec_env\\vec_frame_stack.py:38\u001b[0m, in \u001b[0;36mVecFrameStack.reset\u001b[1;34m(self)\u001b[0m\n\u001b[0;32m     37\u001b[0m \u001b[39mdef\u001b[39;00m \u001b[39mreset\u001b[39m(\u001b[39mself\u001b[39m) \u001b[39m-\u001b[39m\u001b[39m>\u001b[39m Union[np\u001b[39m.\u001b[39mndarray, Dict[\u001b[39mstr\u001b[39m, np\u001b[39m.\u001b[39mndarray]]:\n\u001b[1;32m---> 38\u001b[0m     observation \u001b[39m=\u001b[39m \u001b[39mself\u001b[39;49m\u001b[39m.\u001b[39;49mvenv\u001b[39m.\u001b[39;49mreset()  \u001b[39m# pytype:disable=annotation-type-mismatch\u001b[39;00m\n\u001b[0;32m     39\u001b[0m     observation \u001b[39m=\u001b[39m \u001b[39mself\u001b[39m\u001b[39m.\u001b[39mstacked_obs\u001b[39m.\u001b[39mreset(observation)\n\u001b[0;32m     40\u001b[0m     \u001b[39mreturn\u001b[39;00m observation\n",
      "File \u001b[1;32mc:\\Users\\P311985\\AppData\\Local\\miniconda3\\envs\\mario_thesis\\lib\\site-packages\\stable_baselines3\\common\\vec_env\\dummy_vec_env.py:74\u001b[0m, in \u001b[0;36mDummyVecEnv.reset\u001b[1;34m(self)\u001b[0m\n\u001b[0;32m     72\u001b[0m \u001b[39mdef\u001b[39;00m \u001b[39mreset\u001b[39m(\u001b[39mself\u001b[39m) \u001b[39m-\u001b[39m\u001b[39m>\u001b[39m VecEnvObs:\n\u001b[0;32m     73\u001b[0m     \u001b[39mfor\u001b[39;00m env_idx \u001b[39min\u001b[39;00m \u001b[39mrange\u001b[39m(\u001b[39mself\u001b[39m\u001b[39m.\u001b[39mnum_envs):\n\u001b[1;32m---> 74\u001b[0m         obs \u001b[39m=\u001b[39m \u001b[39mself\u001b[39;49m\u001b[39m.\u001b[39;49menvs[env_idx]\u001b[39m.\u001b[39;49mreset()\n\u001b[0;32m     75\u001b[0m         \u001b[39mself\u001b[39m\u001b[39m.\u001b[39m_save_obs(env_idx, obs)\n\u001b[0;32m     76\u001b[0m     \u001b[39mreturn\u001b[39;00m \u001b[39mself\u001b[39m\u001b[39m.\u001b[39m_obs_from_buf()\n",
      "File \u001b[1;32mc:\\Users\\P311985\\AppData\\Local\\miniconda3\\envs\\mario_thesis\\lib\\site-packages\\gym\\core.py:320\u001b[0m, in \u001b[0;36mObservationWrapper.reset\u001b[1;34m(self, **kwargs)\u001b[0m\n\u001b[0;32m    318\u001b[0m \u001b[39mdef\u001b[39;00m \u001b[39mreset\u001b[39m(\u001b[39mself\u001b[39m, \u001b[39m*\u001b[39m\u001b[39m*\u001b[39mkwargs):\n\u001b[0;32m    319\u001b[0m     observation \u001b[39m=\u001b[39m \u001b[39mself\u001b[39m\u001b[39m.\u001b[39menv\u001b[39m.\u001b[39mreset(\u001b[39m*\u001b[39m\u001b[39m*\u001b[39mkwargs)\n\u001b[1;32m--> 320\u001b[0m     \u001b[39mreturn\u001b[39;00m \u001b[39mself\u001b[39;49m\u001b[39m.\u001b[39;49mobservation(observation)\n",
      "File \u001b[1;32mc:\\Users\\P311985\\AppData\\Local\\miniconda3\\envs\\mario_thesis\\lib\\site-packages\\gym\\wrappers\\gray_scale_observation.py:29\u001b[0m, in \u001b[0;36mGrayScaleObservation.observation\u001b[1;34m(self, observation)\u001b[0m\n\u001b[0;32m     28\u001b[0m \u001b[39mdef\u001b[39;00m \u001b[39mobservation\u001b[39m(\u001b[39mself\u001b[39m, observation):\n\u001b[1;32m---> 29\u001b[0m     \u001b[39mimport\u001b[39;00m \u001b[39mcv2\u001b[39;00m\n\u001b[0;32m     31\u001b[0m     observation \u001b[39m=\u001b[39m cv2\u001b[39m.\u001b[39mcvtColor(observation, cv2\u001b[39m.\u001b[39mCOLOR_RGB2GRAY)\n\u001b[0;32m     32\u001b[0m     \u001b[39mif\u001b[39;00m \u001b[39mself\u001b[39m\u001b[39m.\u001b[39mkeep_dim:\n",
      "\u001b[1;31mModuleNotFoundError\u001b[0m: No module named 'cv2'"
     ]
    }
   ],
   "source": [
    "# Create and train a model\n",
    "model = PPO(policy = 'CnnPolicy', env = env, verbose = 1)\n",
    "model.learn(total_timesteps = 1000)"
   ]
  },
  {
   "cell_type": "code",
   "execution_count": 11,
   "metadata": {},
   "outputs": [
    {
     "ename": "KeyboardInterrupt",
     "evalue": "",
     "output_type": "error",
     "traceback": [
      "\u001b[0;31m---------------------------------------------------------------------------\u001b[0m",
      "\u001b[0;31mKeyboardInterrupt\u001b[0m                         Traceback (most recent call last)",
      "\u001b[1;32m/Users/flamak/Documents/GitHub/tutorial_mario_saferl/mario_saferl.ipynb Cell 14\u001b[0m line \u001b[0;36m6\n\u001b[1;32m      <a href='vscode-notebook-cell:/Users/flamak/Documents/GitHub/tutorial_mario_saferl/mario_saferl.ipynb#X16sZmlsZQ%3D%3D?line=2'>3</a>\u001b[0m \u001b[39m# Loop through the game\u001b[39;00m\n\u001b[1;32m      <a href='vscode-notebook-cell:/Users/flamak/Documents/GitHub/tutorial_mario_saferl/mario_saferl.ipynb#X16sZmlsZQ%3D%3D?line=3'>4</a>\u001b[0m \u001b[39mwhile\u001b[39;00m \u001b[39mTrue\u001b[39;00m: \n\u001b[0;32m----> <a href='vscode-notebook-cell:/Users/flamak/Documents/GitHub/tutorial_mario_saferl/mario_saferl.ipynb#X16sZmlsZQ%3D%3D?line=5'>6</a>\u001b[0m     action, _ \u001b[39m=\u001b[39m model\u001b[39m.\u001b[39;49mpredict(state)\n\u001b[1;32m      <a href='vscode-notebook-cell:/Users/flamak/Documents/GitHub/tutorial_mario_saferl/mario_saferl.ipynb#X16sZmlsZQ%3D%3D?line=6'>7</a>\u001b[0m     state, reward, done, info \u001b[39m=\u001b[39m env\u001b[39m.\u001b[39mstep(action)\n\u001b[1;32m      <a href='vscode-notebook-cell:/Users/flamak/Documents/GitHub/tutorial_mario_saferl/mario_saferl.ipynb#X16sZmlsZQ%3D%3D?line=7'>8</a>\u001b[0m     env\u001b[39m.\u001b[39mrender()\n",
      "File \u001b[0;32m~/opt/miniconda3/envs/mario_thesis/lib/python3.9/site-packages/stable_baselines3/common/base_class.py:539\u001b[0m, in \u001b[0;36mBaseAlgorithm.predict\u001b[0;34m(self, observation, state, episode_start, deterministic)\u001b[0m\n\u001b[1;32m    519\u001b[0m \u001b[39mdef\u001b[39;00m \u001b[39mpredict\u001b[39m(\n\u001b[1;32m    520\u001b[0m     \u001b[39mself\u001b[39m,\n\u001b[1;32m    521\u001b[0m     observation: Union[np\u001b[39m.\u001b[39mndarray, Dict[\u001b[39mstr\u001b[39m, np\u001b[39m.\u001b[39mndarray]],\n\u001b[0;32m   (...)\u001b[0m\n\u001b[1;32m    524\u001b[0m     deterministic: \u001b[39mbool\u001b[39m \u001b[39m=\u001b[39m \u001b[39mFalse\u001b[39;00m,\n\u001b[1;32m    525\u001b[0m ) \u001b[39m-\u001b[39m\u001b[39m>\u001b[39m Tuple[np\u001b[39m.\u001b[39mndarray, Optional[Tuple[np\u001b[39m.\u001b[39mndarray, \u001b[39m.\u001b[39m\u001b[39m.\u001b[39m\u001b[39m.\u001b[39m]]]:\n\u001b[1;32m    526\u001b[0m \u001b[39m    \u001b[39m\u001b[39m\"\"\"\u001b[39;00m\n\u001b[1;32m    527\u001b[0m \u001b[39m    Get the policy action from an observation (and optional hidden state).\u001b[39;00m\n\u001b[1;32m    528\u001b[0m \u001b[39m    Includes sugar-coating to handle different observations (e.g. normalizing images).\u001b[39;00m\n\u001b[0;32m   (...)\u001b[0m\n\u001b[1;32m    537\u001b[0m \u001b[39m        (used in recurrent policies)\u001b[39;00m\n\u001b[1;32m    538\u001b[0m \u001b[39m    \"\"\"\u001b[39;00m\n\u001b[0;32m--> 539\u001b[0m     \u001b[39mreturn\u001b[39;00m \u001b[39mself\u001b[39;49m\u001b[39m.\u001b[39;49mpolicy\u001b[39m.\u001b[39;49mpredict(observation, state, episode_start, deterministic)\n",
      "File \u001b[0;32m~/opt/miniconda3/envs/mario_thesis/lib/python3.9/site-packages/stable_baselines3/common/policies.py:346\u001b[0m, in \u001b[0;36mBasePolicy.predict\u001b[0;34m(self, observation, state, episode_start, deterministic)\u001b[0m\n\u001b[1;32m    343\u001b[0m observation, vectorized_env \u001b[39m=\u001b[39m \u001b[39mself\u001b[39m\u001b[39m.\u001b[39mobs_to_tensor(observation)\n\u001b[1;32m    345\u001b[0m \u001b[39mwith\u001b[39;00m th\u001b[39m.\u001b[39mno_grad():\n\u001b[0;32m--> 346\u001b[0m     actions \u001b[39m=\u001b[39m \u001b[39mself\u001b[39;49m\u001b[39m.\u001b[39;49m_predict(observation, deterministic\u001b[39m=\u001b[39;49mdeterministic)\n\u001b[1;32m    347\u001b[0m \u001b[39m# Convert to numpy, and reshape to the original action shape\u001b[39;00m\n\u001b[1;32m    348\u001b[0m actions \u001b[39m=\u001b[39m actions\u001b[39m.\u001b[39mcpu()\u001b[39m.\u001b[39mnumpy()\u001b[39m.\u001b[39mreshape((\u001b[39m-\u001b[39m\u001b[39m1\u001b[39m, \u001b[39m*\u001b[39m\u001b[39mself\u001b[39m\u001b[39m.\u001b[39maction_space\u001b[39m.\u001b[39mshape))\n",
      "File \u001b[0;32m~/opt/miniconda3/envs/mario_thesis/lib/python3.9/site-packages/stable_baselines3/common/policies.py:676\u001b[0m, in \u001b[0;36mActorCriticPolicy._predict\u001b[0;34m(self, observation, deterministic)\u001b[0m\n\u001b[1;32m    668\u001b[0m \u001b[39mdef\u001b[39;00m \u001b[39m_predict\u001b[39m(\u001b[39mself\u001b[39m, observation: th\u001b[39m.\u001b[39mTensor, deterministic: \u001b[39mbool\u001b[39m \u001b[39m=\u001b[39m \u001b[39mFalse\u001b[39;00m) \u001b[39m-\u001b[39m\u001b[39m>\u001b[39m th\u001b[39m.\u001b[39mTensor:\n\u001b[1;32m    669\u001b[0m \u001b[39m    \u001b[39m\u001b[39m\"\"\"\u001b[39;00m\n\u001b[1;32m    670\u001b[0m \u001b[39m    Get the action according to the policy for a given observation.\u001b[39;00m\n\u001b[1;32m    671\u001b[0m \n\u001b[0;32m   (...)\u001b[0m\n\u001b[1;32m    674\u001b[0m \u001b[39m    :return: Taken action according to the policy\u001b[39;00m\n\u001b[1;32m    675\u001b[0m \u001b[39m    \"\"\"\u001b[39;00m\n\u001b[0;32m--> 676\u001b[0m     \u001b[39mreturn\u001b[39;00m \u001b[39mself\u001b[39;49m\u001b[39m.\u001b[39;49mget_distribution(observation)\u001b[39m.\u001b[39mget_actions(deterministic\u001b[39m=\u001b[39mdeterministic)\n",
      "File \u001b[0;32m~/opt/miniconda3/envs/mario_thesis/lib/python3.9/site-packages/stable_baselines3/common/policies.py:709\u001b[0m, in \u001b[0;36mActorCriticPolicy.get_distribution\u001b[0;34m(self, obs)\u001b[0m\n\u001b[1;32m    702\u001b[0m \u001b[39mdef\u001b[39;00m \u001b[39mget_distribution\u001b[39m(\u001b[39mself\u001b[39m, obs: th\u001b[39m.\u001b[39mTensor) \u001b[39m-\u001b[39m\u001b[39m>\u001b[39m Distribution:\n\u001b[1;32m    703\u001b[0m \u001b[39m    \u001b[39m\u001b[39m\"\"\"\u001b[39;00m\n\u001b[1;32m    704\u001b[0m \u001b[39m    Get the current policy distribution given the observations.\u001b[39;00m\n\u001b[1;32m    705\u001b[0m \n\u001b[1;32m    706\u001b[0m \u001b[39m    :param obs:\u001b[39;00m\n\u001b[1;32m    707\u001b[0m \u001b[39m    :return: the action distribution.\u001b[39;00m\n\u001b[1;32m    708\u001b[0m \u001b[39m    \"\"\"\u001b[39;00m\n\u001b[0;32m--> 709\u001b[0m     features \u001b[39m=\u001b[39m \u001b[39msuper\u001b[39;49m()\u001b[39m.\u001b[39;49mextract_features(obs, \u001b[39mself\u001b[39;49m\u001b[39m.\u001b[39;49mpi_features_extractor)\n\u001b[1;32m    710\u001b[0m     latent_pi \u001b[39m=\u001b[39m \u001b[39mself\u001b[39m\u001b[39m.\u001b[39mmlp_extractor\u001b[39m.\u001b[39mforward_actor(features)\n\u001b[1;32m    711\u001b[0m     \u001b[39mreturn\u001b[39;00m \u001b[39mself\u001b[39m\u001b[39m.\u001b[39m_get_action_dist_from_latent(latent_pi)\n",
      "File \u001b[0;32m~/opt/miniconda3/envs/mario_thesis/lib/python3.9/site-packages/stable_baselines3/common/policies.py:130\u001b[0m, in \u001b[0;36mBaseModel.extract_features\u001b[0;34m(self, obs, features_extractor)\u001b[0m\n\u001b[1;32m    122\u001b[0m \u001b[39m\u001b[39m\u001b[39m\"\"\"\u001b[39;00m\n\u001b[1;32m    123\u001b[0m \u001b[39mPreprocess the observation if needed and extract features.\u001b[39;00m\n\u001b[1;32m    124\u001b[0m \n\u001b[0;32m   (...)\u001b[0m\n\u001b[1;32m    127\u001b[0m \u001b[39m :return: The extracted features\u001b[39;00m\n\u001b[1;32m    128\u001b[0m \u001b[39m\"\"\"\u001b[39;00m\n\u001b[1;32m    129\u001b[0m preprocessed_obs \u001b[39m=\u001b[39m preprocess_obs(obs, \u001b[39mself\u001b[39m\u001b[39m.\u001b[39mobservation_space, normalize_images\u001b[39m=\u001b[39m\u001b[39mself\u001b[39m\u001b[39m.\u001b[39mnormalize_images)\n\u001b[0;32m--> 130\u001b[0m \u001b[39mreturn\u001b[39;00m features_extractor(preprocessed_obs)\n",
      "File \u001b[0;32m~/opt/miniconda3/envs/mario_thesis/lib/python3.9/site-packages/torch/nn/modules/module.py:1518\u001b[0m, in \u001b[0;36mModule._wrapped_call_impl\u001b[0;34m(self, *args, **kwargs)\u001b[0m\n\u001b[1;32m   1516\u001b[0m     \u001b[39mreturn\u001b[39;00m \u001b[39mself\u001b[39m\u001b[39m.\u001b[39m_compiled_call_impl(\u001b[39m*\u001b[39margs, \u001b[39m*\u001b[39m\u001b[39m*\u001b[39mkwargs)  \u001b[39m# type: ignore[misc]\u001b[39;00m\n\u001b[1;32m   1517\u001b[0m \u001b[39melse\u001b[39;00m:\n\u001b[0;32m-> 1518\u001b[0m     \u001b[39mreturn\u001b[39;00m \u001b[39mself\u001b[39;49m\u001b[39m.\u001b[39;49m_call_impl(\u001b[39m*\u001b[39;49margs, \u001b[39m*\u001b[39;49m\u001b[39m*\u001b[39;49mkwargs)\n",
      "File \u001b[0;32m~/opt/miniconda3/envs/mario_thesis/lib/python3.9/site-packages/torch/nn/modules/module.py:1527\u001b[0m, in \u001b[0;36mModule._call_impl\u001b[0;34m(self, *args, **kwargs)\u001b[0m\n\u001b[1;32m   1522\u001b[0m \u001b[39m# If we don't have any hooks, we want to skip the rest of the logic in\u001b[39;00m\n\u001b[1;32m   1523\u001b[0m \u001b[39m# this function, and just call forward.\u001b[39;00m\n\u001b[1;32m   1524\u001b[0m \u001b[39mif\u001b[39;00m \u001b[39mnot\u001b[39;00m (\u001b[39mself\u001b[39m\u001b[39m.\u001b[39m_backward_hooks \u001b[39mor\u001b[39;00m \u001b[39mself\u001b[39m\u001b[39m.\u001b[39m_backward_pre_hooks \u001b[39mor\u001b[39;00m \u001b[39mself\u001b[39m\u001b[39m.\u001b[39m_forward_hooks \u001b[39mor\u001b[39;00m \u001b[39mself\u001b[39m\u001b[39m.\u001b[39m_forward_pre_hooks\n\u001b[1;32m   1525\u001b[0m         \u001b[39mor\u001b[39;00m _global_backward_pre_hooks \u001b[39mor\u001b[39;00m _global_backward_hooks\n\u001b[1;32m   1526\u001b[0m         \u001b[39mor\u001b[39;00m _global_forward_hooks \u001b[39mor\u001b[39;00m _global_forward_pre_hooks):\n\u001b[0;32m-> 1527\u001b[0m     \u001b[39mreturn\u001b[39;00m forward_call(\u001b[39m*\u001b[39;49margs, \u001b[39m*\u001b[39;49m\u001b[39m*\u001b[39;49mkwargs)\n\u001b[1;32m   1529\u001b[0m \u001b[39mtry\u001b[39;00m:\n\u001b[1;32m   1530\u001b[0m     result \u001b[39m=\u001b[39m \u001b[39mNone\u001b[39;00m\n",
      "File \u001b[0;32m~/opt/miniconda3/envs/mario_thesis/lib/python3.9/site-packages/stable_baselines3/common/torch_layers.py:102\u001b[0m, in \u001b[0;36mNatureCNN.forward\u001b[0;34m(self, observations)\u001b[0m\n\u001b[1;32m    101\u001b[0m \u001b[39mdef\u001b[39;00m \u001b[39mforward\u001b[39m(\u001b[39mself\u001b[39m, observations: th\u001b[39m.\u001b[39mTensor) \u001b[39m-\u001b[39m\u001b[39m>\u001b[39m th\u001b[39m.\u001b[39mTensor:\n\u001b[0;32m--> 102\u001b[0m     \u001b[39mreturn\u001b[39;00m \u001b[39mself\u001b[39;49m\u001b[39m.\u001b[39;49mlinear(\u001b[39mself\u001b[39;49m\u001b[39m.\u001b[39;49mcnn(observations))\n",
      "File \u001b[0;32m~/opt/miniconda3/envs/mario_thesis/lib/python3.9/site-packages/torch/nn/modules/module.py:1518\u001b[0m, in \u001b[0;36mModule._wrapped_call_impl\u001b[0;34m(self, *args, **kwargs)\u001b[0m\n\u001b[1;32m   1516\u001b[0m     \u001b[39mreturn\u001b[39;00m \u001b[39mself\u001b[39m\u001b[39m.\u001b[39m_compiled_call_impl(\u001b[39m*\u001b[39margs, \u001b[39m*\u001b[39m\u001b[39m*\u001b[39mkwargs)  \u001b[39m# type: ignore[misc]\u001b[39;00m\n\u001b[1;32m   1517\u001b[0m \u001b[39melse\u001b[39;00m:\n\u001b[0;32m-> 1518\u001b[0m     \u001b[39mreturn\u001b[39;00m \u001b[39mself\u001b[39;49m\u001b[39m.\u001b[39;49m_call_impl(\u001b[39m*\u001b[39;49margs, \u001b[39m*\u001b[39;49m\u001b[39m*\u001b[39;49mkwargs)\n",
      "File \u001b[0;32m~/opt/miniconda3/envs/mario_thesis/lib/python3.9/site-packages/torch/nn/modules/module.py:1527\u001b[0m, in \u001b[0;36mModule._call_impl\u001b[0;34m(self, *args, **kwargs)\u001b[0m\n\u001b[1;32m   1522\u001b[0m \u001b[39m# If we don't have any hooks, we want to skip the rest of the logic in\u001b[39;00m\n\u001b[1;32m   1523\u001b[0m \u001b[39m# this function, and just call forward.\u001b[39;00m\n\u001b[1;32m   1524\u001b[0m \u001b[39mif\u001b[39;00m \u001b[39mnot\u001b[39;00m (\u001b[39mself\u001b[39m\u001b[39m.\u001b[39m_backward_hooks \u001b[39mor\u001b[39;00m \u001b[39mself\u001b[39m\u001b[39m.\u001b[39m_backward_pre_hooks \u001b[39mor\u001b[39;00m \u001b[39mself\u001b[39m\u001b[39m.\u001b[39m_forward_hooks \u001b[39mor\u001b[39;00m \u001b[39mself\u001b[39m\u001b[39m.\u001b[39m_forward_pre_hooks\n\u001b[1;32m   1525\u001b[0m         \u001b[39mor\u001b[39;00m _global_backward_pre_hooks \u001b[39mor\u001b[39;00m _global_backward_hooks\n\u001b[1;32m   1526\u001b[0m         \u001b[39mor\u001b[39;00m _global_forward_hooks \u001b[39mor\u001b[39;00m _global_forward_pre_hooks):\n\u001b[0;32m-> 1527\u001b[0m     \u001b[39mreturn\u001b[39;00m forward_call(\u001b[39m*\u001b[39;49margs, \u001b[39m*\u001b[39;49m\u001b[39m*\u001b[39;49mkwargs)\n\u001b[1;32m   1529\u001b[0m \u001b[39mtry\u001b[39;00m:\n\u001b[1;32m   1530\u001b[0m     result \u001b[39m=\u001b[39m \u001b[39mNone\u001b[39;00m\n",
      "File \u001b[0;32m~/opt/miniconda3/envs/mario_thesis/lib/python3.9/site-packages/torch/nn/modules/container.py:215\u001b[0m, in \u001b[0;36mSequential.forward\u001b[0;34m(self, input)\u001b[0m\n\u001b[1;32m    213\u001b[0m \u001b[39mdef\u001b[39;00m \u001b[39mforward\u001b[39m(\u001b[39mself\u001b[39m, \u001b[39minput\u001b[39m):\n\u001b[1;32m    214\u001b[0m     \u001b[39mfor\u001b[39;00m module \u001b[39min\u001b[39;00m \u001b[39mself\u001b[39m:\n\u001b[0;32m--> 215\u001b[0m         \u001b[39minput\u001b[39m \u001b[39m=\u001b[39m module(\u001b[39minput\u001b[39;49m)\n\u001b[1;32m    216\u001b[0m     \u001b[39mreturn\u001b[39;00m \u001b[39minput\u001b[39m\n",
      "File \u001b[0;32m~/opt/miniconda3/envs/mario_thesis/lib/python3.9/site-packages/torch/nn/modules/module.py:1518\u001b[0m, in \u001b[0;36mModule._wrapped_call_impl\u001b[0;34m(self, *args, **kwargs)\u001b[0m\n\u001b[1;32m   1516\u001b[0m     \u001b[39mreturn\u001b[39;00m \u001b[39mself\u001b[39m\u001b[39m.\u001b[39m_compiled_call_impl(\u001b[39m*\u001b[39margs, \u001b[39m*\u001b[39m\u001b[39m*\u001b[39mkwargs)  \u001b[39m# type: ignore[misc]\u001b[39;00m\n\u001b[1;32m   1517\u001b[0m \u001b[39melse\u001b[39;00m:\n\u001b[0;32m-> 1518\u001b[0m     \u001b[39mreturn\u001b[39;00m \u001b[39mself\u001b[39;49m\u001b[39m.\u001b[39;49m_call_impl(\u001b[39m*\u001b[39;49margs, \u001b[39m*\u001b[39;49m\u001b[39m*\u001b[39;49mkwargs)\n",
      "File \u001b[0;32m~/opt/miniconda3/envs/mario_thesis/lib/python3.9/site-packages/torch/nn/modules/module.py:1527\u001b[0m, in \u001b[0;36mModule._call_impl\u001b[0;34m(self, *args, **kwargs)\u001b[0m\n\u001b[1;32m   1522\u001b[0m \u001b[39m# If we don't have any hooks, we want to skip the rest of the logic in\u001b[39;00m\n\u001b[1;32m   1523\u001b[0m \u001b[39m# this function, and just call forward.\u001b[39;00m\n\u001b[1;32m   1524\u001b[0m \u001b[39mif\u001b[39;00m \u001b[39mnot\u001b[39;00m (\u001b[39mself\u001b[39m\u001b[39m.\u001b[39m_backward_hooks \u001b[39mor\u001b[39;00m \u001b[39mself\u001b[39m\u001b[39m.\u001b[39m_backward_pre_hooks \u001b[39mor\u001b[39;00m \u001b[39mself\u001b[39m\u001b[39m.\u001b[39m_forward_hooks \u001b[39mor\u001b[39;00m \u001b[39mself\u001b[39m\u001b[39m.\u001b[39m_forward_pre_hooks\n\u001b[1;32m   1525\u001b[0m         \u001b[39mor\u001b[39;00m _global_backward_pre_hooks \u001b[39mor\u001b[39;00m _global_backward_hooks\n\u001b[1;32m   1526\u001b[0m         \u001b[39mor\u001b[39;00m _global_forward_hooks \u001b[39mor\u001b[39;00m _global_forward_pre_hooks):\n\u001b[0;32m-> 1527\u001b[0m     \u001b[39mreturn\u001b[39;00m forward_call(\u001b[39m*\u001b[39;49margs, \u001b[39m*\u001b[39;49m\u001b[39m*\u001b[39;49mkwargs)\n\u001b[1;32m   1529\u001b[0m \u001b[39mtry\u001b[39;00m:\n\u001b[1;32m   1530\u001b[0m     result \u001b[39m=\u001b[39m \u001b[39mNone\u001b[39;00m\n",
      "File \u001b[0;32m~/opt/miniconda3/envs/mario_thesis/lib/python3.9/site-packages/torch/nn/modules/linear.py:114\u001b[0m, in \u001b[0;36mLinear.forward\u001b[0;34m(self, input)\u001b[0m\n\u001b[1;32m    113\u001b[0m \u001b[39mdef\u001b[39;00m \u001b[39mforward\u001b[39m(\u001b[39mself\u001b[39m, \u001b[39minput\u001b[39m: Tensor) \u001b[39m-\u001b[39m\u001b[39m>\u001b[39m Tensor:\n\u001b[0;32m--> 114\u001b[0m     \u001b[39mreturn\u001b[39;00m F\u001b[39m.\u001b[39;49mlinear(\u001b[39minput\u001b[39;49m, \u001b[39mself\u001b[39;49m\u001b[39m.\u001b[39;49mweight, \u001b[39mself\u001b[39;49m\u001b[39m.\u001b[39;49mbias)\n",
      "\u001b[0;31mKeyboardInterrupt\u001b[0m: "
     ]
    }
   ],
   "source": [
    "# Start the game \n",
    "state = env.reset()\n",
    "# Loop through the game\n",
    "while True: \n",
    "    \n",
    "    action, _ = model.predict(state)\n",
    "    state, reward, done, info = env.step(action)\n",
    "    env.render()"
   ]
  }
 ],
 "metadata": {
  "kernelspec": {
   "display_name": "mario_env",
   "language": "python",
   "name": "python3"
  },
  "language_info": {
   "codemirror_mode": {
    "name": "ipython",
    "version": 3
   },
   "file_extension": ".py",
   "mimetype": "text/x-python",
   "name": "python",
   "nbconvert_exporter": "python",
   "pygments_lexer": "ipython3",
   "version": "3.9.18"
  },
  "orig_nbformat": 4
 },
 "nbformat": 4,
 "nbformat_minor": 2
}
