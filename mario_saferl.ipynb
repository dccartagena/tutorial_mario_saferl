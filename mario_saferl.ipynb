{
 "cells": [
  {
   "cell_type": "markdown",
   "metadata": {},
   "source": [
    "# Reinforcement Learning in Mario - Tutorial\n",
    "\n",
    "This tutorial will gude you through the setup process for the Mario Environment and Stablebaselines library\n",
    "\n",
    "## First steps\n",
    "\n",
    "- Create a conda virtual environment with Python 3.9\n",
    "    - Make sure you have anaconda installed in your computer - (Conda Installation)[https://conda.io/projects/conda/en/latest/user-guide/install/index.html]\n",
    "    -  Open the Conda console and use the following line to create the virtual environment: \n",
    "        ```console\n",
    "        conda create --name my_environment python=3.9\n",
    "        conda activate my_environment\n",
    "        ```\n",
    "        *Note the new environment only has Python, we will install the dependencies along the way to detect potential compatibility issues.\n",
    "\n",
    "- Setup the VScode IDE to run Python from the new environment\n",
    "    - Open the command palette, use the following shortcut: Control + Shift + P or under the menu \"view.\"\n",
    "    - Type in the textbox \"select interpreter\" and choose the python from the new virtual environment.\n",
    "    - For further information about this process, follow the link: (Python environments in VS Code)[https://code.visualstudio.com/docs/python/environments]\n",
    "\n",
    "- As next step, please create a private repository in GitHub and share it with (@dccartagena)[https://github.com/dccartagena]. Then clone it in your computer and save everything there. \n",
    "    - If you are not familiar with GitHub, I recommend you to use the visual interface to pull/push/fetch changes in your code: (GitHub Desktop)[https://desktop.github.com/]\n",
    "\n",
    "- Now, let us proceed to create a Jupyter notebook or python file, e.g. mario_saferl.ipynb or mario_saferl.py"
   ]
  },
  {
   "cell_type": "markdown",
   "metadata": {},
   "source": [
    "## Installing The Mario Environment\n",
    "\n",
    "- Make sure you are working in the virtual environment. You may check it on the Conda console.\n",
    "- Run the following commands in the Conda console:\n",
    "\n",
    "    ```console \n",
    "    pip install --user wheel==0.38.0 pip install setuptools==65.5.0 \n",
    "    pip install stable-baselines3==1.8.0\n",
    "    pip install nes-py\n",
    "    pip install gym-super-mario-bros\n",
    "    ```\n",
    "    - In case you face a compatibility issue with nes-py, chances are that the C++ distribution in your pc is not compatible. Thus, follow the instruction in the first comment of this Stackoverflow question: (How to solve \"error: Microsoft Visual C++ 14.0 or greater is required\" when installing Python packages?)[https://stackoverflow.com/questions/64261546/how-to-solve-error-microsoft-visual-c-14-0-or-greater-is-required-when-inst]\n",
    "        - Go to the control panel in your pc and under the *\"Install/Uninstall Apps,\"* search for the program *\"Visual Studio Build Tools,\"* then click in **Modify** the installation. \n",
    "        - Then, use the installation wizard to update the C++ distribution in your machine."
   ]
  },
  {
   "cell_type": "markdown",
   "metadata": {},
   "source": [
    "## Let Us Create A Random Agent"
   ]
  },
  {
   "cell_type": "code",
   "execution_count": 1,
   "metadata": {},
   "outputs": [],
   "source": [
    "# Import libraries\n",
    "\n",
    "from PIL import Image           # Image management\n",
    "import numpy as np              # Numerical computing\n",
    "import matplotlib.pyplot as plt # Plotting\n",
    "\n",
    "from nes_py.wrappers import JoypadSpace     # Joypad wrapper in NES Emulator\n",
    "\n",
    "import gym_super_mario_bros                                 # Super Mario environment\n",
    "from gym_super_mario_bros.actions import SIMPLE_MOVEMENT    # Import the simplified controls"
   ]
  },
  {
   "cell_type": "code",
   "execution_count": 2,
   "metadata": {},
   "outputs": [],
   "source": [
    "# Create environment - Note there are different environments, for more info: https://pypi.org/project/gym-super-mario-bros/\n",
    "env = gym_super_mario_bros.make(\"SuperMarioBros-v2\")\n",
    "\n",
    "# Setup simplified controls\n",
    "env = JoypadSpace(env, SIMPLE_MOVEMENT)\n",
    "\n",
    "# actions for simple movement\n",
    "# SIMPLE_MOVEMENT = [\n",
    "#     ['NOOP'],\n",
    "#     ['right'],\n",
    "#     ['right', 'A'],\n",
    "#     ['right', 'B'],\n",
    "#     ['right', 'A', 'B'],\n",
    "#     ['A'],\n",
    "#     ['left'],\n",
    "# ]"
   ]
  },
  {
   "cell_type": "code",
   "execution_count": 3,
   "metadata": {},
   "outputs": [
    {
     "name": "stdout",
     "output_type": "stream",
     "text": [
      "The shape of the states is (240, 256, 3)\n",
      "The reward for this iteration is 0.0\n",
      "The done flag in this iteration is False\n",
      "Here is more information about this iteration {'coins': 0, 'flag_get': False, 'life': 2, 'score': 0, 'stage': 1, 'status': 'small', 'time': 400, 'world': 1, 'x_pos': 40, 'y_pos': 79}\n"
     ]
    }
   ],
   "source": [
    "# Let us explore the space and action space in this environment\n",
    "\n",
    "# Reset environment\n",
    "env.reset()\n",
    "\n",
    "# Sample one random action\n",
    "action = env.action_space.sample()\n",
    "\n",
    "# One agent-environment iteration \n",
    "next_state, reward, done, info = env.step(action)\n",
    "\n",
    "# Print results\n",
    "print('The shape of the states is {}'.format(next_state.shape))\n",
    "\n",
    "print('The reward for this iteration is {}'.format(reward))\n",
    "\n",
    "print('The done flag in this iteration is {}'.format(done))\n",
    "\n",
    "print('Here is more information about this iteration {}'.format(info))"
   ]
  },
  {
   "cell_type": "code",
   "execution_count": 4,
   "metadata": {},
   "outputs": [
    {
     "data": {
      "text/plain": [
       "<matplotlib.image.AxesImage at 0x11a596a60>"
      ]
     },
     "execution_count": 4,
     "metadata": {},
     "output_type": "execute_result"
    },
    {
     "data": {
      "image/png": "[encoded data removed]",
      "text/plain": [
       "<Figure size 2000x1600 with 1 Axes>"
      ]
     },
     "metadata": {},
     "output_type": "display_data"
    }
   ],
   "source": [
    "# Plot next state\n",
    "plt.figure(figsize=(20, 16))\n",
    "plt.imshow(next_state)"
   ]
  },
  {
   "cell_type": "code",
   "execution_count": 5,
   "metadata": {},
   "outputs": [
    {
     "name": "stdout",
     "output_type": "stream",
     "text": [
      "The reward in step 0 is 0.0\n",
      "The reward in step 1 is 0.0\n",
      "The reward in step 2 is 0.0\n",
      "The reward in step 3 is 0.0\n",
      "The reward in step 4 is 0.0\n",
      "The reward in step 5 is 0.0\n",
      "The reward in step 6 is 1.0\n",
      "The reward in step 7 is 0.0\n",
      "The reward in step 8 is 0.0\n",
      "The reward in step 9 is 0.0\n"
     ]
    }
   ],
   "source": [
    "# Random Agent Loop\n",
    "\n",
    "# Done flag - Termination of episode\n",
    "done = True\n",
    "\n",
    "# Number of iterations\n",
    "num_iterations = 100\n",
    "\n",
    "# Iteration loop\n",
    "for steps in range(num_iterations):\n",
    "    \n",
    "    # Check if the episode is done\n",
    "    if done:\n",
    "        env.reset()\n",
    "    \n",
    "    # Sample one random action\n",
    "    action = env.action_space.sample()\n",
    "    \n",
    "    # agent-environment iteration \n",
    "    next_state, reward, done, info = env.step(action)\n",
    "    \n",
    "    # Render may crash Jupyter\n",
    "    env.render()\n",
    "    \n",
    "    # Check for new reward\n",
    "    print('The reward in step {} is {}'.format(steps, reward))\n",
    "    \n",
    "# Close the environment        \n",
    "env.close()"
   ]
  },
  {
   "cell_type": "code",
   "execution_count": 3,
   "metadata": {},
   "outputs": [],
   "source": [
    "# Wrappers to vectorize and stack frames\n",
    "from stable_baselines3.common.vec_env import VecFrameStack, DummyVecEnv\n",
    "\n",
    "# RL algorithms in the library\n",
    "from stable_baselines3 import DQN, A2C, DDPG, PPO, SAC, TD3\n",
    "\n",
    "# Import Frame Stacker Wrapper and GrayScaling Wrapper\n",
    "from gym.wrappers import GrayScaleObservation"
   ]
  },
  {
   "cell_type": "code",
   "execution_count": 4,
   "metadata": {},
   "outputs": [],
   "source": [
    "# Use the wrappers\n",
    "\n",
    "# Grayscale\n",
    "env = GrayScaleObservation(env, keep_dim=True)\n",
    "\n",
    "# Vectorize environment - call the environment in sequence on the current Python process\n",
    "env =  DummyVecEnv([lambda: env])\n",
    "\n",
    "# Stack frames\n",
    "env = VecFrameStack(env, n_stack = 4, channels_order='last')"
   ]
  },
  {
   "cell_type": "code",
   "execution_count": null,
   "metadata": {},
   "outputs": [
    {
     "ename": "",
     "evalue": "",
     "output_type": "error",
     "traceback": [
      "\u001b[1;31mThe Kernel crashed while executing code in the the current cell or a previous cell. Please review the code in the cell(s) to identify a possible cause of the failure. Click <a href='https://aka.ms/vscodeJupyterKernelCrash'>here</a> for more info. View Jupyter <a href='command:jupyter.viewOutput'>log</a> for further details."
     ]
    }
   ],
   "source": [
    "# Explore the new environment\n",
    "\n",
    "# Reset environment\n",
    "env.reset()\n",
    "\n",
    "# Sample one random action\n",
    "action = env.action_space.sample()\n",
    "\n",
    "# One agent-environment iteration \n",
    "next_state, reward, done, info = env.step(action)\n",
    "\n",
    "# Print results\n",
    "print('The shape of the states is {}'.format(next_state.shape))\n",
    "\n",
    "print('The reward for this iteration is {}'.format(reward))\n",
    "\n",
    "print('The done flag in this iteration is {}'.format(done))\n",
    "\n",
    "print('Here is more information about this iteration {}'.format(info))"
   ]
  },
  {
   "cell_type": "code",
   "execution_count": 7,
   "metadata": {},
   "outputs": [
    {
     "name": "stdout",
     "output_type": "stream",
     "text": [
      "Using cpu device\n",
      "Wrapping the env in a VecTransposeImage.\n",
      "-------------------------------------\n",
      "| time/                 |           |\n",
      "|    fps                | 19        |\n",
      "|    iterations         | 100       |\n",
      "|    time_elapsed       | 25        |\n",
      "|    total_timesteps    | 500       |\n",
      "| train/                |           |\n",
      "|    entropy_loss       | -0.000525 |\n",
      "|    explained_variance | -0.254    |\n",
      "|    learning_rate      | 0.0007    |\n",
      "|    n_updates          | 99        |\n",
      "|    policy_loss        | 0.000101  |\n",
      "|    value_loss         | 4.96      |\n",
      "-------------------------------------\n",
      "-------------------------------------\n",
      "| time/                 |           |\n",
      "|    fps                | 19        |\n",
      "|    iterations         | 200       |\n",
      "|    time_elapsed       | 50        |\n",
      "|    total_timesteps    | 1000      |\n",
      "| train/                |           |\n",
      "|    entropy_loss       | -9.46e-05 |\n",
      "|    explained_variance | 0.727     |\n",
      "|    learning_rate      | 0.0007    |\n",
      "|    n_updates          | 199       |\n",
      "|    policy_loss        | -2.29e-06 |\n",
      "|    value_loss         | 0.236     |\n",
      "-------------------------------------\n",
      "-------------------------------------\n",
      "| time/                 |           |\n",
      "|    fps                | 19        |\n",
      "|    iterations         | 300       |\n",
      "|    time_elapsed       | 76        |\n",
      "|    total_timesteps    | 1500      |\n",
      "| train/                |           |\n",
      "|    entropy_loss       | -6.78e-15 |\n",
      "|    explained_variance | -0.0616   |\n",
      "|    learning_rate      | 0.0007    |\n",
      "|    n_updates          | 299       |\n",
      "|    policy_loss        | -0        |\n",
      "|    value_loss         | 19.9      |\n",
      "-------------------------------------\n",
      "-------------------------------------\n",
      "| time/                 |           |\n",
      "|    fps                | 19        |\n",
      "|    iterations         | 400       |\n",
      "|    time_elapsed       | 101       |\n",
      "|    total_timesteps    | 2000      |\n",
      "| train/                |           |\n",
      "|    entropy_loss       | -2.07e-10 |\n",
      "|    explained_variance | 0.0717    |\n",
      "|    learning_rate      | 0.0007    |\n",
      "|    n_updates          | 399       |\n",
      "|    policy_loss        | -0        |\n",
      "|    value_loss         | 1.73      |\n",
      "-------------------------------------\n",
      "-------------------------------------\n",
      "| time/                 |           |\n",
      "|    fps                | 19        |\n",
      "|    iterations         | 500       |\n",
      "|    time_elapsed       | 127       |\n",
      "|    total_timesteps    | 2500      |\n",
      "| train/                |           |\n",
      "|    entropy_loss       | -7.47e-12 |\n",
      "|    explained_variance | 0.17      |\n",
      "|    learning_rate      | 0.0007    |\n",
      "|    n_updates          | 499       |\n",
      "|    policy_loss        | -0        |\n",
      "|    value_loss         | 0.781     |\n",
      "-------------------------------------\n"
     ]
    }
   ],
   "source": [
    "# Create and train a model\n",
    "model = A2C(policy = 'CnnPolicy', env = env, verbose = 1)\n",
    "model.learn(total_timesteps = 10000)"
   ]
  },
  {
   "cell_type": "code",
   "execution_count": 6,
   "metadata": {},
   "outputs": [
    {
     "ename": "KeyboardInterrupt",
     "evalue": "",
     "output_type": "error",
     "traceback": [
      "\u001b[0;31m---------------------------------------------------------------------------\u001b[0m",
      "\u001b[0;31mKeyboardInterrupt\u001b[0m                         Traceback (most recent call last)",
      "\u001b[1;32m/Users/flamak/Documents/GitHub/tutorial_mario_saferl/mario_saferl.ipynb Cell 13\u001b[0m line \u001b[0;36m8\n\u001b[1;32m      <a href='vscode-notebook-cell:/Users/flamak/Documents/GitHub/tutorial_mario_saferl/mario_saferl.ipynb#X16sZmlsZQ%3D%3D?line=5'>6</a>\u001b[0m action, _ \u001b[39m=\u001b[39m model\u001b[39m.\u001b[39mpredict(state)\n\u001b[1;32m      <a href='vscode-notebook-cell:/Users/flamak/Documents/GitHub/tutorial_mario_saferl/mario_saferl.ipynb#X16sZmlsZQ%3D%3D?line=6'>7</a>\u001b[0m state, reward, done, info \u001b[39m=\u001b[39m env\u001b[39m.\u001b[39mstep(action)\n\u001b[0;32m----> <a href='vscode-notebook-cell:/Users/flamak/Documents/GitHub/tutorial_mario_saferl/mario_saferl.ipynb#X16sZmlsZQ%3D%3D?line=7'>8</a>\u001b[0m env\u001b[39m.\u001b[39;49mrender()\n",
      "File \u001b[0;32m~/opt/miniconda3/envs/mario_thesis/lib/python3.9/site-packages/stable_baselines3/common/vec_env/base_vec_env.py:282\u001b[0m, in \u001b[0;36mVecEnvWrapper.render\u001b[0;34m(self, mode)\u001b[0m\n\u001b[1;32m    281\u001b[0m \u001b[39mdef\u001b[39;00m \u001b[39mrender\u001b[39m(\u001b[39mself\u001b[39m, mode: \u001b[39mstr\u001b[39m \u001b[39m=\u001b[39m \u001b[39m\"\u001b[39m\u001b[39mhuman\u001b[39m\u001b[39m\"\u001b[39m) \u001b[39m-\u001b[39m\u001b[39m>\u001b[39m Optional[np\u001b[39m.\u001b[39mndarray]:\n\u001b[0;32m--> 282\u001b[0m     \u001b[39mreturn\u001b[39;00m \u001b[39mself\u001b[39;49m\u001b[39m.\u001b[39;49mvenv\u001b[39m.\u001b[39;49mrender(mode\u001b[39m=\u001b[39;49mmode)\n",
      "File \u001b[0;32m~/opt/miniconda3/envs/mario_thesis/lib/python3.9/site-packages/stable_baselines3/common/vec_env/dummy_vec_env.py:98\u001b[0m, in \u001b[0;36mDummyVecEnv.render\u001b[0;34m(self, mode)\u001b[0m\n\u001b[1;32m     86\u001b[0m \u001b[39m\u001b[39m\u001b[39m\"\"\"\u001b[39;00m\n\u001b[1;32m     87\u001b[0m \u001b[39mGym environment rendering. If there are multiple environments then\u001b[39;00m\n\u001b[1;32m     88\u001b[0m \u001b[39mthey are tiled together in one image via ``BaseVecEnv.render()``.\u001b[39;00m\n\u001b[0;32m   (...)\u001b[0m\n\u001b[1;32m     95\u001b[0m \u001b[39m:param mode: The rendering type.\u001b[39;00m\n\u001b[1;32m     96\u001b[0m \u001b[39m\"\"\"\u001b[39;00m\n\u001b[1;32m     97\u001b[0m \u001b[39mif\u001b[39;00m \u001b[39mself\u001b[39m\u001b[39m.\u001b[39mnum_envs \u001b[39m==\u001b[39m \u001b[39m1\u001b[39m:\n\u001b[0;32m---> 98\u001b[0m     \u001b[39mreturn\u001b[39;00m \u001b[39mself\u001b[39;49m\u001b[39m.\u001b[39;49menvs[\u001b[39m0\u001b[39;49m]\u001b[39m.\u001b[39;49mrender(mode\u001b[39m=\u001b[39;49mmode)\n\u001b[1;32m     99\u001b[0m \u001b[39melse\u001b[39;00m:\n\u001b[1;32m    100\u001b[0m     \u001b[39mreturn\u001b[39;00m \u001b[39msuper\u001b[39m()\u001b[39m.\u001b[39mrender(mode\u001b[39m=\u001b[39mmode)\n",
      "File \u001b[0;32m~/opt/miniconda3/envs/mario_thesis/lib/python3.9/site-packages/gym/core.py:295\u001b[0m, in \u001b[0;36mWrapper.render\u001b[0;34m(self, mode, **kwargs)\u001b[0m\n\u001b[1;32m    294\u001b[0m \u001b[39mdef\u001b[39;00m \u001b[39mrender\u001b[39m(\u001b[39mself\u001b[39m, mode\u001b[39m=\u001b[39m\u001b[39m\"\u001b[39m\u001b[39mhuman\u001b[39m\u001b[39m\"\u001b[39m, \u001b[39m*\u001b[39m\u001b[39m*\u001b[39mkwargs):\n\u001b[0;32m--> 295\u001b[0m     \u001b[39mreturn\u001b[39;00m \u001b[39mself\u001b[39;49m\u001b[39m.\u001b[39;49menv\u001b[39m.\u001b[39;49mrender(mode, \u001b[39m*\u001b[39;49m\u001b[39m*\u001b[39;49mkwargs)\n",
      "File \u001b[0;32m~/opt/miniconda3/envs/mario_thesis/lib/python3.9/site-packages/gym/core.py:295\u001b[0m, in \u001b[0;36mWrapper.render\u001b[0;34m(self, mode, **kwargs)\u001b[0m\n\u001b[1;32m    294\u001b[0m \u001b[39mdef\u001b[39;00m \u001b[39mrender\u001b[39m(\u001b[39mself\u001b[39m, mode\u001b[39m=\u001b[39m\u001b[39m\"\u001b[39m\u001b[39mhuman\u001b[39m\u001b[39m\"\u001b[39m, \u001b[39m*\u001b[39m\u001b[39m*\u001b[39mkwargs):\n\u001b[0;32m--> 295\u001b[0m     \u001b[39mreturn\u001b[39;00m \u001b[39mself\u001b[39;49m\u001b[39m.\u001b[39;49menv\u001b[39m.\u001b[39;49mrender(mode, \u001b[39m*\u001b[39;49m\u001b[39m*\u001b[39;49mkwargs)\n",
      "File \u001b[0;32m~/opt/miniconda3/envs/mario_thesis/lib/python3.9/site-packages/nes_py/nes_env.py:386\u001b[0m, in \u001b[0;36mNESEnv.render\u001b[0;34m(self, mode)\u001b[0m\n\u001b[1;32m    380\u001b[0m         \u001b[39mself\u001b[39m\u001b[39m.\u001b[39mviewer \u001b[39m=\u001b[39m ImageViewer(\n\u001b[1;32m    381\u001b[0m             caption\u001b[39m=\u001b[39mcaption,\n\u001b[1;32m    382\u001b[0m             height\u001b[39m=\u001b[39mSCREEN_HEIGHT,\n\u001b[1;32m    383\u001b[0m             width\u001b[39m=\u001b[39mSCREEN_WIDTH,\n\u001b[1;32m    384\u001b[0m         )\n\u001b[1;32m    385\u001b[0m     \u001b[39m# show the screen on the image viewer\u001b[39;00m\n\u001b[0;32m--> 386\u001b[0m     \u001b[39mself\u001b[39;49m\u001b[39m.\u001b[39;49mviewer\u001b[39m.\u001b[39;49mshow(\u001b[39mself\u001b[39;49m\u001b[39m.\u001b[39;49mscreen)\n\u001b[1;32m    387\u001b[0m \u001b[39melif\u001b[39;00m mode \u001b[39m==\u001b[39m \u001b[39m'\u001b[39m\u001b[39mrgb_array\u001b[39m\u001b[39m'\u001b[39m:\n\u001b[1;32m    388\u001b[0m     \u001b[39mreturn\u001b[39;00m \u001b[39mself\u001b[39m\u001b[39m.\u001b[39mscreen\n",
      "File \u001b[0;32m~/opt/miniconda3/envs/mario_thesis/lib/python3.9/site-packages/nes_py/_image_viewer.py:144\u001b[0m, in \u001b[0;36mImageViewer.show\u001b[0;34m(self, frame)\u001b[0m\n\u001b[1;32m    138\u001b[0m \u001b[39mself\u001b[39m\u001b[39m.\u001b[39m_window\u001b[39m.\u001b[39mdispatch_events()\n\u001b[1;32m    139\u001b[0m \u001b[39m# create an image data object\u001b[39;00m\n\u001b[1;32m    140\u001b[0m image \u001b[39m=\u001b[39m \u001b[39mself\u001b[39m\u001b[39m.\u001b[39mpyglet\u001b[39m.\u001b[39mimage\u001b[39m.\u001b[39mImageData(\n\u001b[1;32m    141\u001b[0m     frame\u001b[39m.\u001b[39mshape[\u001b[39m1\u001b[39m],\n\u001b[1;32m    142\u001b[0m     frame\u001b[39m.\u001b[39mshape[\u001b[39m0\u001b[39m],\n\u001b[1;32m    143\u001b[0m     \u001b[39m'\u001b[39m\u001b[39mRGB\u001b[39m\u001b[39m'\u001b[39m,\n\u001b[0;32m--> 144\u001b[0m     frame\u001b[39m.\u001b[39;49mtobytes(),\n\u001b[1;32m    145\u001b[0m     pitch\u001b[39m=\u001b[39mframe\u001b[39m.\u001b[39mshape[\u001b[39m1\u001b[39m]\u001b[39m*\u001b[39m\u001b[39m-\u001b[39m\u001b[39m3\u001b[39m\n\u001b[1;32m    146\u001b[0m )\n\u001b[1;32m    147\u001b[0m \u001b[39m# send the image to the window\u001b[39;00m\n\u001b[1;32m    148\u001b[0m image\u001b[39m.\u001b[39mblit(\u001b[39m0\u001b[39m, \u001b[39m0\u001b[39m, width\u001b[39m=\u001b[39m\u001b[39mself\u001b[39m\u001b[39m.\u001b[39m_window\u001b[39m.\u001b[39mwidth, height\u001b[39m=\u001b[39m\u001b[39mself\u001b[39m\u001b[39m.\u001b[39m_window\u001b[39m.\u001b[39mheight)\n",
      "\u001b[0;31mKeyboardInterrupt\u001b[0m: "
     ]
    }
   ],
   "source": [
    "# Start the game \n",
    "state = env.reset()\n",
    "# Loop through the game\n",
    "while True: \n",
    "    \n",
    "    action, _ = model.predict(state)\n",
    "    state, reward, done, info = env.step(action)\n",
    "    env.render()"
   ]
  }
 ],
 "metadata": {
  "kernelspec": {
   "display_name": "mario_env",
   "language": "python",
   "name": "python3"
  },
  "language_info": {
   "codemirror_mode": {
    "name": "ipython",
    "version": 3
   },
   "file_extension": ".py",
   "mimetype": "text/x-python",
   "name": "python",
   "nbconvert_exporter": "python",
   "pygments_lexer": "ipython3",
   "version": "3.9.18"
  },
  "orig_nbformat": 4
 },
 "nbformat": 4,
 "nbformat_minor": 2
}
