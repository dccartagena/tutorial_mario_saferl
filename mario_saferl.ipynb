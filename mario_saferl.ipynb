{
 "cells": [
  {
   "cell_type": "markdown",
   "metadata": {},
   "source": [
    "# Reinforcement Learning in Mario - Tutorial\n",
    "\n",
    "This tutorial will gude you through the setup process for the Mario Environment and Stablebaselines library\n",
    "\n",
    "## First steps\n",
    "\n",
    "- Create a conda virtual environment with Python 3.9\n",
    "    - Make sure you have anaconda installed in your computer - (Conda Installation)[https://conda.io/projects/conda/en/latest/user-guide/install/index.html]\n",
    "    -  Open the Conda console and use the following line to create the virtual environment: \n",
    "        ```console\n",
    "        conda create --name my_environment python=3.9\n",
    "        conda activate my_environment\n",
    "        ```\n",
    "        *Note the new environment only has Python, we will install the dependencies along the way to detect potential compatibility issues.\n",
    "\n",
    "- Setup the VScode IDE to run Python from the new environment\n",
    "    - Open the command palette, use the following shortcut: Control + Shift + P or under the menu \"view.\"\n",
    "    - Type in the textbox \"select interpreter\" and choose the python from the new virtual environment.\n",
    "    - For further information about this process, follow the link: (Python environments in VS Code)[https://code.visualstudio.com/docs/python/environments]\n",
    "\n",
    "- As next step, please create a private repository in GitHub and share it with (@dccartagena)[https://github.com/dccartagena]. Then clone it in your computer and save everything there. \n",
    "    - If you are not familiar with GitHub, I recommend you to use the visual interface to pull/push/fetch changes in your code: (GitHub Desktop)[https://desktop.github.com/]\n",
    "\n",
    "- Now, let us proceed to create a Jupyter notebook or python file, e.g. mario_saferl.ipynb or mario_saferl.py\n",
    "\n",
    "## Installing The Mario Environment\n",
    "\n",
    "- Make sure you are working in the virtual environment. You may check it on the Conda console.\n",
    "- Run the following commands in the Conda console:\n",
    "    ```console \n",
    "    pip install nes-py\n",
    "    pip install gym-super-mario-bros\n",
    "    ```\n",
    "    - In case you face a compatibility issue with nes-py, chances are that the C++ distribution in your pc is not compatible. Thus, follow the instruction in the first comment of this Stackoverflow question: (How to solve \"error: Microsoft Visual C++ 14.0 or greater is required\" when installing Python packages?)[https://stackoverflow.com/questions/64261546/how-to-solve-error-microsoft-visual-c-14-0-or-greater-is-required-when-inst]\n",
    "        - Go to the control panel in your pc and under the *\"Install/Uninstall Apps,\"* search for the program *\"Visual Studio Build Tools,\"* then click in **Modify** the installation. "
   ]
  },
  {
   "cell_type": "code",
   "execution_count": null,
   "metadata": {},
   "outputs": [],
   "source": []
  }
 ],
 "metadata": {
  "kernelspec": {
   "display_name": "mario_env",
   "language": "python",
   "name": "python3"
  },
  "language_info": {
   "name": "python",
   "version": "3.9.18"
  },
  "orig_nbformat": 4
 },
 "nbformat": 4,
 "nbformat_minor": 2
}
