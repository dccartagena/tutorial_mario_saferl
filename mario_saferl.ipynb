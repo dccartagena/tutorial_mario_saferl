{
 "cells": [
  {
   "cell_type": "markdown",
   "metadata": {},
   "source": [
    "# Reinforcement Learning in Mario - Tutorial\n",
    "\n",
    "This tutorial will gude you through the setup process for the Mario Environment and Stablebaselines library\n",
    "\n",
    "## First steps\n",
    "\n",
    "- Create a conda virtual environment with Python 3.9\n",
    "    - Make sure you have anaconda installed in your computer - (Conda Installation)[https://conda.io/projects/conda/en/latest/user-guide/install/index.html]\n",
    "    -  Open the Conda console and use the following line to create the virtual environment: \n",
    "        ```console\n",
    "        user@pc:~$ conda create --name my_environment python=3.9\n",
    "        user@pc:~$ conda activate my_environment\n",
    "        ```\n",
    "        *Note the new environment only has Python, we will install the dependencies along the way to detect potential compatibility issues.\n",
    "\n",
    "- Setup the VScode IDE to run Python from the new environment\n",
    "    - Open the command palette, use the following shortcut: Control + Shift + P or under the menu \"view.\"\n",
    "    - Type in the textbox \"select interpreter\" and choose the python from the new virtual environment.\n",
    "    - For further information about this process, follow the link: (Python environments in VS Code)[https://code.visualstudio.com/docs/python/environments]"
   ]
  },
  {
   "cell_type": "code",
   "execution_count": null,
   "metadata": {},
   "outputs": [],
   "source": []
  }
 ],
 "metadata": {
  "language_info": {
   "name": "python"
  },
  "orig_nbformat": 4
 },
 "nbformat": 4,
 "nbformat_minor": 2
}
